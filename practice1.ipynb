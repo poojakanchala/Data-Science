{
  "nbformat": 4,
  "nbformat_minor": 0,
  "metadata": {
    "colab": {
      "provenance": [],
      "authorship_tag": "ABX9TyOPGVa+yuAlCeMz772GrbWa",
      "include_colab_link": true
    },
    "kernelspec": {
      "name": "python3",
      "display_name": "Python 3"
    },
    "language_info": {
      "name": "python"
    }
  },
  "cells": [
    {
      "cell_type": "markdown",
      "metadata": {
        "id": "view-in-github",
        "colab_type": "text"
      },
      "source": [
        "<a href=\"https://colab.research.google.com/github/poojakanchala/Edukroncodes7781/blob/main/practice1.ipynb\" target=\"_parent\"><img src=\"https://colab.research.google.com/assets/colab-badge.svg\" alt=\"Open In Colab\"/></a>"
      ]
    },
    {
      "cell_type": "code",
      "execution_count": 3,
      "metadata": {
        "id": "MrQS0S_qL9Hq"
      },
      "outputs": [],
      "source": [
        "# Write a function sum_all(*args) that returns the sum of all numbers passed.\n",
        "def sum(*args):\n",
        "  result=0\n",
        "  for i in args:\n",
        "    result=result+i\n",
        "  return result"
      ]
    },
    {
      "cell_type": "code",
      "source": [
        "sum(10,20,30)"
      ],
      "metadata": {
        "colab": {
          "base_uri": "https://localhost:8080/"
        },
        "id": "ana_E941M5Bd",
        "outputId": "6cdd65c3-e4b7-4a22-8ec2-4dc564e0ef1b"
      },
      "execution_count": 4,
      "outputs": [
        {
          "output_type": "execute_result",
          "data": {
            "text/plain": [
              "60"
            ]
          },
          "metadata": {},
          "execution_count": 4
        }
      ]
    },
    {
      "cell_type": "code",
      "source": [
        "# Write a function concat_strings(*args) that joins all string arguments into one string.\n",
        "def concate_str(*args):\n",
        "  result=' '\n",
        "  for i in args:\n",
        "    result=result+str(i)\n",
        "  return result"
      ],
      "metadata": {
        "id": "P5kO_nNsM48n"
      },
      "execution_count": 11,
      "outputs": []
    },
    {
      "cell_type": "code",
      "source": [
        "concate_str('python',' ','programming')"
      ],
      "metadata": {
        "colab": {
          "base_uri": "https://localhost:8080/",
          "height": 36
        },
        "id": "BmnS2puJPJy-",
        "outputId": "165013e5-9f89-4a1f-9cc2-09da1b5ed7a0"
      },
      "execution_count": 14,
      "outputs": [
        {
          "output_type": "execute_result",
          "data": {
            "text/plain": [
              "' python programming'"
            ],
            "application/vnd.google.colaboratory.intrinsic+json": {
              "type": "string"
            }
          },
          "metadata": {},
          "execution_count": 14
        }
      ]
    },
    {
      "cell_type": "code",
      "source": [
        "# Write a function max_number(*args) that returns the maximum value passed.\n",
        "\n",
        "def max_num(*args):\n",
        "  return max(args)\n",
        "max_num(10,50,82,49)\n"
      ],
      "metadata": {
        "colab": {
          "base_uri": "https://localhost:8080/"
        },
        "id": "I7PkU9XKPJxH",
        "outputId": "798caba0-3057-47fe-dd4f-5ce7d828448c"
      },
      "execution_count": 15,
      "outputs": [
        {
          "output_type": "execute_result",
          "data": {
            "text/plain": [
              "82"
            ]
          },
          "metadata": {},
          "execution_count": 15
        }
      ]
    },
    {
      "cell_type": "code",
      "source": [
        "# Write a function unpack_args(*args) that takes nested lists/tuples and flattens them.\n",
        "\n",
        "def unpack_args(*args):\n",
        "  flat=[]\n",
        "  for i in args:\n",
        "    if type(i) in (list,tuple):\n",
        "      flat+=unpack_args(*i)\n",
        "    else:\n",
        "      flat.append(i)\n",
        "  return flat"
      ],
      "metadata": {
        "id": "McjiDiv8PJs3"
      },
      "execution_count": 16,
      "outputs": []
    },
    {
      "cell_type": "code",
      "source": [
        "unpack_args((1, [2, 3], (4, 5), [6, (7, 8)]))"
      ],
      "metadata": {
        "colab": {
          "base_uri": "https://localhost:8080/"
        },
        "id": "LaRcg8LISRzI",
        "outputId": "a0975efa-1a97-4185-8138-00f9a3f06c04"
      },
      "execution_count": 17,
      "outputs": [
        {
          "output_type": "execute_result",
          "data": {
            "text/plain": [
              "[1, 2, 3, 4, 5, 6, 7, 8]"
            ]
          },
          "metadata": {},
          "execution_count": 17
        }
      ]
    },
    {
      "cell_type": "code",
      "source": [
        "# Write a function reverse_args(*args) that prints arguments in reverse order.\n",
        "def reverse_args(*args):\n",
        "  return args[::-1]\n",
        "reverse_args(1,2,3,5,7,'a')"
      ],
      "metadata": {
        "colab": {
          "base_uri": "https://localhost:8080/"
        },
        "id": "idGajIDFSRwJ",
        "outputId": "f1d91c8d-48e4-4117-a96d-b42bdb6737e0"
      },
      "execution_count": 19,
      "outputs": [
        {
          "output_type": "execute_result",
          "data": {
            "text/plain": [
              "('a', 7, 5, 3, 2, 1)"
            ]
          },
          "metadata": {},
          "execution_count": 19
        }
      ]
    },
    {
      "cell_type": "code",
      "source": [
        "# What happens if you pass a list directly vs. using unpacking (*list) when calling a function with *args? Show with an example.\n",
        "def dual(*args):\n",
        "  print(args)\n",
        "list1 = [1,2,5]\n",
        "dual(list1)    #### whole list is passed as a single argument"
      ],
      "metadata": {
        "colab": {
          "base_uri": "https://localhost:8080/"
        },
        "id": "gTAZ8G2ZSRuQ",
        "outputId": "8dce713f-4c42-4fcf-946b-be4d75fedc5f"
      },
      "execution_count": 20,
      "outputs": [
        {
          "output_type": "stream",
          "name": "stdout",
          "text": [
            "([1, 2, 5],)\n"
          ]
        }
      ]
    },
    {
      "cell_type": "code",
      "source": [
        "def dual(*args):\n",
        "  print(args)\n",
        "list1 = [1,2,5]\n",
        "dual(*list1)     #### here elements in list is passed as a separate arguments"
      ],
      "metadata": {
        "colab": {
          "base_uri": "https://localhost:8080/"
        },
        "id": "5csmWLfsSRsQ",
        "outputId": "edc8cc5d-43c0-4655-a768-23ecf9bd3391"
      },
      "execution_count": 21,
      "outputs": [
        {
          "output_type": "stream",
          "name": "stdout",
          "text": [
            "(1, 2, 5)\n"
          ]
        }
      ]
    },
    {
      "cell_type": "code",
      "source": [],
      "metadata": {
        "id": "4192PPLlSRoI"
      },
      "execution_count": null,
      "outputs": []
    }
  ]
}