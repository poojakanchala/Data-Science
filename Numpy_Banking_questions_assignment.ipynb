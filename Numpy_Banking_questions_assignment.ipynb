{
  "nbformat": 4,
  "nbformat_minor": 0,
  "metadata": {
    "colab": {
      "provenance": [],
      "authorship_tag": "ABX9TyM8PyeCaADac0XsphauZzPH",
      "include_colab_link": true
    },
    "kernelspec": {
      "name": "python3",
      "display_name": "Python 3"
    },
    "language_info": {
      "name": "python"
    }
  },
  "cells": [
    {
      "cell_type": "markdown",
      "metadata": {
        "id": "view-in-github",
        "colab_type": "text"
      },
      "source": [
        "<a href=\"https://colab.research.google.com/github/poojakanchala/Edukroncodes7781/blob/main/Banking_questions_assignment.ipynb\" target=\"_parent\"><img src=\"https://colab.research.google.com/assets/colab-badge.svg\" alt=\"Open In Colab\"/></a>"
      ]
    },
    {
      "cell_type": "code",
      "source": [
        "# Question 1: Array Creation and Manipulation"
      ],
      "metadata": {
        "id": "9mYkJVo3OSRW"
      },
      "execution_count": null,
      "outputs": []
    },
    {
      "cell_type": "code",
      "execution_count": 1,
      "metadata": {
        "colab": {
          "base_uri": "https://localhost:8080/"
        },
        "id": "QRxqU93oMbzR",
        "outputId": "e7924d02-ddf8-423a-aa44-63a5a1a4819f"
      },
      "outputs": [
        {
          "output_type": "stream",
          "name": "stdout",
          "text": [
            "[[1. 0. 0. 0.]\n",
            " [0. 1. 0. 0.]\n",
            " [0. 0. 1. 0.]\n",
            " [0. 0. 0. 1.]]\n"
          ]
        }
      ],
      "source": [
        "# Q1.1: Create a 4x4 identity matrix using np.eye()\n",
        "import numpy as np\n",
        "Identity_matrix = np.eye(4)\n",
        "print(Identity_matrix)"
      ]
    },
    {
      "cell_type": "code",
      "source": [
        "# Q1.2: Create an array of 8 zeros using np.zeros()\n",
        "array_zeros = np.zeros(8)\n",
        "print(array_zeros)"
      ],
      "metadata": {
        "colab": {
          "base_uri": "https://localhost:8080/"
        },
        "id": "_k0K0Kj0NF72",
        "outputId": "428f3107-d71d-4d2a-c429-46234dda2af8"
      },
      "execution_count": 2,
      "outputs": [
        {
          "output_type": "stream",
          "name": "stdout",
          "text": [
            "[0. 0. 0. 0. 0. 0. 0. 0.]\n"
          ]
        }
      ]
    },
    {
      "cell_type": "code",
      "source": [
        "# Q1.3: Create an array of 6 ones using np.ones()\n",
        "array_ones = np.ones(6)\n",
        "print(array_ones)"
      ],
      "metadata": {
        "colab": {
          "base_uri": "https://localhost:8080/"
        },
        "id": "04olCA5rNF5S",
        "outputId": "d4281b71-79db-4488-8b30-62f3484877c2"
      },
      "execution_count": 4,
      "outputs": [
        {
          "output_type": "stream",
          "name": "stdout",
          "text": [
            "[1. 1. 1. 1. 1. 1.]\n"
          ]
        }
      ]
    },
    {
      "cell_type": "code",
      "source": [
        "# Q1.4: Create an array with values from 0 to 15 using np.arange()\n",
        "array = np.arange(0,16)\n",
        "print(array)"
      ],
      "metadata": {
        "colab": {
          "base_uri": "https://localhost:8080/"
        },
        "id": "qUxS_1VqNF2P",
        "outputId": "30c3422e-6e37-4830-90f8-915cf66f3b5d"
      },
      "execution_count": 5,
      "outputs": [
        {
          "output_type": "stream",
          "name": "stdout",
          "text": [
            "[ 0  1  2  3  4  5  6  7  8  9 10 11 12 13 14 15]\n"
          ]
        }
      ]
    },
    {
      "cell_type": "code",
      "source": [
        "# Q1.5: Create an array with 8 evenly spaced values from 0 to 100 using np.linspace()\n",
        "array = np.linspace(0,100,8)\n",
        "print(array)"
      ],
      "metadata": {
        "colab": {
          "base_uri": "https://localhost:8080/"
        },
        "id": "jEGyPTPINFzb",
        "outputId": "078f6644-4373-4788-b2a7-842532041a0f"
      },
      "execution_count": 6,
      "outputs": [
        {
          "output_type": "stream",
          "name": "stdout",
          "text": [
            "[  0.          14.28571429  28.57142857  42.85714286  57.14285714\n",
            "  71.42857143  85.71428571 100.        ]\n"
          ]
        }
      ]
    },
    {
      "cell_type": "code",
      "source": [
        "# Question 2: Array Attributes and Information"
      ],
      "metadata": {
        "id": "EO03j_ACNFwy"
      },
      "execution_count": null,
      "outputs": []
    },
    {
      "cell_type": "code",
      "source": [
        "# Q2.1: What is the shape of the banking_data array?\n",
        "banking_data = np.array([\n",
        "    # Customer_ID, Account_Balance, Credit_Score, Transaction_Count, Years_Active\n",
        "    [1, 25000, 300, 1200, 10],\n",
        "    [2, 32000, 450, 1500, 15],\n",
        "    [3, 28000, 380, 1100, 8],\n",
        "    [4, 41000, 500, 1600, 20],\n",
        "    [5, 35000, 420, 1400, 12],\n",
        "    [6, 27000, 360, 1300, 9],\n",
        "    [7, 39000, 480, 1700, 18],\n",
        "    [8, 30000, 400, 1250, 14],\n",
        "    [9, 45000, 550, 1800, 25],\n",
        "    [10, 33000, 410, 1450, 11]\n",
        "])\n",
        "\n",
        "print(banking_data)"
      ],
      "metadata": {
        "colab": {
          "base_uri": "https://localhost:8080/"
        },
        "id": "g22x5s1WNFuf",
        "outputId": "4cc4369f-a2fd-4d86-a4d6-0fbbaa7103fb"
      },
      "execution_count": 9,
      "outputs": [
        {
          "output_type": "stream",
          "name": "stdout",
          "text": [
            "[[    1 25000   300  1200    10]\n",
            " [    2 32000   450  1500    15]\n",
            " [    3 28000   380  1100     8]\n",
            " [    4 41000   500  1600    20]\n",
            " [    5 35000   420  1400    12]\n",
            " [    6 27000   360  1300     9]\n",
            " [    7 39000   480  1700    18]\n",
            " [    8 30000   400  1250    14]\n",
            " [    9 45000   550  1800    25]\n",
            " [   10 33000   410  1450    11]]\n"
          ]
        }
      ]
    },
    {
      "cell_type": "code",
      "source": [
        "# Q2.2: What is the data type of the banking_data array?\n",
        "print(type(banking_data))"
      ],
      "metadata": {
        "colab": {
          "base_uri": "https://localhost:8080/"
        },
        "id": "QWXIUfNkNFsJ",
        "outputId": "182b5c36-94d6-4cfe-b23e-d2fcd74e709b"
      },
      "execution_count": 11,
      "outputs": [
        {
          "output_type": "stream",
          "name": "stdout",
          "text": [
            "<class 'numpy.ndarray'>\n"
          ]
        }
      ]
    },
    {
      "cell_type": "code",
      "source": [
        "# Q2.3: What is the size (total number of elements) of the banking_data array?\n",
        "banking_data_size = np.size(banking_data)\n",
        "print(banking_data_size)"
      ],
      "metadata": {
        "colab": {
          "base_uri": "https://localhost:8080/"
        },
        "id": "8-dCggTVNFp8",
        "outputId": "32cdba3f-7eab-4c9b-c630-e252fdbc6ddc"
      },
      "execution_count": 15,
      "outputs": [
        {
          "output_type": "stream",
          "name": "stdout",
          "text": [
            "50\n"
          ]
        }
      ]
    },
    {
      "cell_type": "code",
      "source": [
        "# Q2.4: What is the number of dimensions of the banking_data array?\n",
        "dim_banking_data = np.ndim(banking_data)\n",
        "print(dim_banking_data)"
      ],
      "metadata": {
        "colab": {
          "base_uri": "https://localhost:8080/"
        },
        "id": "rREMpwcrNFnI",
        "outputId": "13ac08f7-c114-42b2-d9fe-07e6a0bd44c0"
      },
      "execution_count": 17,
      "outputs": [
        {
          "output_type": "stream",
          "name": "stdout",
          "text": [
            "2\n"
          ]
        }
      ]
    },
    {
      "cell_type": "code",
      "source": [
        "# Q2.5: What is the memory size of the banking_data array in bytes?\n",
        "print(banking_data.nbytes)"
      ],
      "metadata": {
        "colab": {
          "base_uri": "https://localhost:8080/"
        },
        "id": "B6icM3U0NFkn",
        "outputId": "7bc89652-1bfb-415f-9e90-27df7b7b8182"
      },
      "execution_count": 25,
      "outputs": [
        {
          "output_type": "stream",
          "name": "stdout",
          "text": [
            "400\n"
          ]
        }
      ]
    },
    {
      "cell_type": "code",
      "source": [
        "# Question 3: Indexing and Slicing"
      ],
      "metadata": {
        "id": "aEQgYDJPNFiE"
      },
      "execution_count": null,
      "outputs": []
    },
    {
      "cell_type": "code",
      "source": [
        "# Q3.1: Extract the first row of banking_data\n",
        "print(banking_data[0])"
      ],
      "metadata": {
        "colab": {
          "base_uri": "https://localhost:8080/"
        },
        "id": "RfR8U4mqNFfh",
        "outputId": "f309abea-f7c2-417d-f9a2-03b3ba7a6f2b"
      },
      "execution_count": 26,
      "outputs": [
        {
          "output_type": "stream",
          "name": "stdout",
          "text": [
            "[    1 25000   300  1200    10]\n"
          ]
        }
      ]
    },
    {
      "cell_type": "code",
      "source": [
        "# Q3.2: Extract the last row of banking_data\n",
        "print(banking_data[-1])"
      ],
      "metadata": {
        "colab": {
          "base_uri": "https://localhost:8080/"
        },
        "id": "qdt0r85DNFLQ",
        "outputId": "b2bf7b9c-26bb-4207-e90a-c71c40085398"
      },
      "execution_count": 27,
      "outputs": [
        {
          "output_type": "stream",
          "name": "stdout",
          "text": [
            "[   10 33000   410  1450    11]\n"
          ]
        }
      ]
    },
    {
      "cell_type": "code",
      "source": [
        "# Q3.3: Extract the Account_Balance column (column index 1)\n",
        "print(banking_data[:,1])"
      ],
      "metadata": {
        "colab": {
          "base_uri": "https://localhost:8080/"
        },
        "id": "SxoVa21qTNpN",
        "outputId": "bc1a4637-91dd-4ddc-9c3c-e720285f0bb4"
      },
      "execution_count": 28,
      "outputs": [
        {
          "output_type": "stream",
          "name": "stdout",
          "text": [
            "[25000 32000 28000 41000 35000 27000 39000 30000 45000 33000]\n"
          ]
        }
      ]
    },
    {
      "cell_type": "code",
      "source": [
        "# Q3.4: Extract the first 4 rows and first 3 columns\n",
        "print(banking_data[:4,:3])"
      ],
      "metadata": {
        "colab": {
          "base_uri": "https://localhost:8080/"
        },
        "id": "bKkmduI7TNmZ",
        "outputId": "71b340ba-9e48-4afa-cf1a-cff77a1b7ad8"
      },
      "execution_count": 33,
      "outputs": [
        {
          "output_type": "stream",
          "name": "stdout",
          "text": [
            "[[    1 25000   300]\n",
            " [    2 32000   450]\n",
            " [    3 28000   380]\n",
            " [    4 41000   500]]\n"
          ]
        }
      ]
    },
    {
      "cell_type": "code",
      "source": [
        "# Q3.5: Extract rows 3 to 7 (inclusive)\n",
        "print(banking_data[3:8,:])"
      ],
      "metadata": {
        "colab": {
          "base_uri": "https://localhost:8080/"
        },
        "id": "bdPNf8B_TNjv",
        "outputId": "7241ccc6-d016-4e9f-f44f-02c76f2c4153"
      },
      "execution_count": 35,
      "outputs": [
        {
          "output_type": "stream",
          "name": "stdout",
          "text": [
            "[[    4 41000   500  1600    20]\n",
            " [    5 35000   420  1400    12]\n",
            " [    6 27000   360  1300     9]\n",
            " [    7 39000   480  1700    18]\n",
            " [    8 30000   400  1250    14]]\n"
          ]
        }
      ]
    },
    {
      "cell_type": "code",
      "source": [
        "# Question 4: Mathematical Operations"
      ],
      "metadata": {
        "id": "H-_3wIH3TNg4"
      },
      "execution_count": null,
      "outputs": []
    },
    {
      "cell_type": "code",
      "source": [
        "# Q4.1: Calculate the sum of all account balances\n",
        "sum_account = np.sum(banking_data[:,1])\n",
        "print(sum_account)\n",
        ""
      ],
      "metadata": {
        "colab": {
          "base_uri": "https://localhost:8080/"
        },
        "id": "duMo5hoETNZn",
        "outputId": "3eec6471-dc9a-4201-daf8-b1960fab18ed"
      },
      "execution_count": 36,
      "outputs": [
        {
          "output_type": "stream",
          "name": "stdout",
          "text": [
            "335000\n"
          ]
        }
      ]
    },
    {
      "cell_type": "code",
      "source": [
        "# Q4.2: Calculate the mean account balance\n",
        "mean_account = np.mean(banking_data[:,1])\n",
        "print(mean_account)"
      ],
      "metadata": {
        "colab": {
          "base_uri": "https://localhost:8080/"
        },
        "id": "Ca7XXSvpVNRA",
        "outputId": "236617fa-7f7f-4121-db3f-bde93dfb2c2d"
      },
      "execution_count": 37,
      "outputs": [
        {
          "output_type": "stream",
          "name": "stdout",
          "text": [
            "33500.0\n"
          ]
        }
      ]
    },
    {
      "cell_type": "code",
      "source": [
        "# Q4.3: Calculate the standard deviation of account balances\n",
        "std_account = np.std(banking_data[:,1])\n",
        "print(std_account)"
      ],
      "metadata": {
        "colab": {
          "base_uri": "https://localhost:8080/"
        },
        "id": "jeIOWciHVNNi",
        "outputId": "b4e5d1a0-c473-48d9-fe04-901be5832792"
      },
      "execution_count": 38,
      "outputs": [
        {
          "output_type": "stream",
          "name": "stdout",
          "text": [
            "6168.468205316454\n"
          ]
        }
      ]
    },
    {
      "cell_type": "code",
      "source": [
        "# Q4.4: Calculate the variance of account balances\n",
        "var_account = np.var(banking_data[:,1])\n",
        "print(var_account)"
      ],
      "metadata": {
        "colab": {
          "base_uri": "https://localhost:8080/"
        },
        "id": "WqeCEx9wVNLR",
        "outputId": "687d3401-56ba-4b0b-bc7e-e22fa3b693db"
      },
      "execution_count": 41,
      "outputs": [
        {
          "output_type": "stream",
          "name": "stdout",
          "text": [
            "38050000.0\n"
          ]
        }
      ]
    },
    {
      "cell_type": "code",
      "source": [
        "# Q4.5: Calculate the median account balance\n",
        "median_account = np.median(banking_data[:,1])\n",
        "print(median_account)"
      ],
      "metadata": {
        "colab": {
          "base_uri": "https://localhost:8080/"
        },
        "id": "JOz_MajtVNJM",
        "outputId": "a69a9538-ee29-40e6-97b4-311c9c64160f"
      },
      "execution_count": 39,
      "outputs": [
        {
          "output_type": "stream",
          "name": "stdout",
          "text": [
            "32500.0\n"
          ]
        }
      ]
    },
    {
      "cell_type": "code",
      "source": [
        "# Question 5: Statistical Functions"
      ],
      "metadata": {
        "id": "Ce48DPfjVNHF"
      },
      "execution_count": null,
      "outputs": []
    },
    {
      "cell_type": "code",
      "source": [
        "# Q5.1: Find the minimum and maximum account balances\n",
        "min_account = np.min(banking_data[:,1])\n",
        "max_account = np.max(banking_data[:,1])\n",
        "print(f\"min_account:{min_account},max_account:{max_account}\")"
      ],
      "metadata": {
        "colab": {
          "base_uri": "https://localhost:8080/"
        },
        "id": "YbZ5Cj4hVNFE",
        "outputId": "123c2fe9-ba5d-4fd1-b884-161335e37962"
      },
      "execution_count": 42,
      "outputs": [
        {
          "output_type": "stream",
          "name": "stdout",
          "text": [
            "min_account:25000,max_account:45000\n"
          ]
        }
      ]
    },
    {
      "cell_type": "code",
      "source": [
        "# Q5.2: Find the minimum and maximum credit scores\n",
        "min_Credit = np.min(banking_data[:,2])\n",
        "max_Credit = np.max(banking_data[:,2])\n",
        "print(f\"min_Credit:{min_Credit},max_Credit:{max_Credit}\")"
      ],
      "metadata": {
        "colab": {
          "base_uri": "https://localhost:8080/"
        },
        "id": "teUuVVHBVNCI",
        "outputId": "61948fbb-e7de-4345-8707-998f955e310a"
      },
      "execution_count": 45,
      "outputs": [
        {
          "output_type": "stream",
          "name": "stdout",
          "text": [
            "min_Credit:300,max_Credit:550\n"
          ]
        }
      ]
    },
    {
      "cell_type": "code",
      "source": [
        "# Q5.3: Calculate the percentile values for account balances (25th, 50th, 75th)\n",
        "per_values = np.percentile(banking_data[:,1],[25,50,75])\n",
        "print(per_values[0],per_values[1],per_values[2])"
      ],
      "metadata": {
        "colab": {
          "base_uri": "https://localhost:8080/"
        },
        "id": "_54plwgIVM_m",
        "outputId": "6a4855fb-f086-4a51-dc7f-10dbc47ca7a1"
      },
      "execution_count": 48,
      "outputs": [
        {
          "output_type": "stream",
          "name": "stdout",
          "text": [
            "28500.0 32500.0 38000.0\n"
          ]
        }
      ]
    },
    {
      "cell_type": "code",
      "source": [
        "# Q5.4: Calculate the correlation between account balance and credit score\n",
        "cor_relation = np.corrcoef(banking_data[:,1],banking_data[:,2])[0,1]\n",
        "print(cor_relation)"
      ],
      "metadata": {
        "colab": {
          "base_uri": "https://localhost:8080/"
        },
        "id": "L09bYJqTVM8x",
        "outputId": "6f70b4b7-2c16-4199-ef1f-485b7d8f0a33"
      },
      "execution_count": 50,
      "outputs": [
        {
          "output_type": "stream",
          "name": "stdout",
          "text": [
            "0.9593636912502479\n"
          ]
        }
      ]
    },
    {
      "cell_type": "code",
      "source": [
        "# Q5.5: Calculate the covariance between account balance and credit score\n",
        "covar = np.cov(banking_data[:,1],banking_data[:,2])[0,1]\n",
        "print(covar)"
      ],
      "metadata": {
        "colab": {
          "base_uri": "https://localhost:8080/"
        },
        "id": "8c9hAH8lVM68",
        "outputId": "74ddf8c9-3c09-4691-fd9e-6349c9ee5227"
      },
      "execution_count": 53,
      "outputs": [
        {
          "output_type": "stream",
          "name": "stdout",
          "text": [
            "453888.8888888889\n"
          ]
        }
      ]
    },
    {
      "cell_type": "code",
      "source": [
        "# Question 6: Array Reshaping and Manipulation"
      ],
      "metadata": {
        "id": "DNF3-ad7VM3_"
      },
      "execution_count": null,
      "outputs": []
    },
    {
      "cell_type": "code",
      "source": [
        "# Q6.1: Reshape the banking_data to 5 rows × 10 columns\n",
        "reshaping_bdata = np.reshape(banking_data,(5,10))\n",
        "print(reshaping_bdata)"
      ],
      "metadata": {
        "colab": {
          "base_uri": "https://localhost:8080/"
        },
        "id": "uP7B4Y7UYx3s",
        "outputId": "9bffb976-6111-4e48-d3ff-8daee45a30c2"
      },
      "execution_count": 55,
      "outputs": [
        {
          "output_type": "stream",
          "name": "stdout",
          "text": [
            "[[    1 25000   300  1200    10     2 32000   450  1500    15]\n",
            " [    3 28000   380  1100     8     4 41000   500  1600    20]\n",
            " [    5 35000   420  1400    12     6 27000   360  1300     9]\n",
            " [    7 39000   480  1700    18     8 30000   400  1250    14]\n",
            " [    9 45000   550  1800    25    10 33000   410  1450    11]]\n"
          ]
        }
      ]
    },
    {
      "cell_type": "code",
      "source": [
        "# Q6.2: Flatten the banking_data to a 1D array\n",
        "flattening_bdata = banking_data.flatten()\n",
        "print(flattening_bdata)"
      ],
      "metadata": {
        "colab": {
          "base_uri": "https://localhost:8080/"
        },
        "id": "iTcAEZUdYx1O",
        "outputId": "2b41393f-5501-46ff-fb2a-4fe4045e35f2"
      },
      "execution_count": 57,
      "outputs": [
        {
          "output_type": "stream",
          "name": "stdout",
          "text": [
            "[    1 25000   300  1200    10     2 32000   450  1500    15     3 28000\n",
            "   380  1100     8     4 41000   500  1600    20     5 35000   420  1400\n",
            "    12     6 27000   360  1300     9     7 39000   480  1700    18     8\n",
            " 30000   400  1250    14     9 45000   550  1800    25    10 33000   410\n",
            "  1450    11]\n"
          ]
        }
      ]
    },
    {
      "cell_type": "code",
      "source": [
        "# Q6.3: Transpose the banking_data\n",
        "trans = banking_data.T\n",
        "print(trans)"
      ],
      "metadata": {
        "colab": {
          "base_uri": "https://localhost:8080/"
        },
        "id": "I1vHJJFfYxy-",
        "outputId": "14bf7ee4-ba83-45b2-b4e8-46a9f388e7ea"
      },
      "execution_count": 58,
      "outputs": [
        {
          "output_type": "stream",
          "name": "stdout",
          "text": [
            "[[    1     2     3     4     5     6     7     8     9    10]\n",
            " [25000 32000 28000 41000 35000 27000 39000 30000 45000 33000]\n",
            " [  300   450   380   500   420   360   480   400   550   410]\n",
            " [ 1200  1500  1100  1600  1400  1300  1700  1250  1800  1450]\n",
            " [   10    15     8    20    12     9    18    14    25    11]]\n"
          ]
        }
      ]
    },
    {
      "cell_type": "code",
      "source": [
        "# Q6.4: Split the banking_data into 2 equal parts vertically\n",
        "split_bd = np.vsplit(banking_data,2)\n",
        "print(split_bd[0])\n",
        "print(split_bd[1])"
      ],
      "metadata": {
        "colab": {
          "base_uri": "https://localhost:8080/"
        },
        "id": "DUCJ_gRQYxwp",
        "outputId": "476f12e1-bbd4-4546-b579-f56c7a5c3b71"
      },
      "execution_count": 63,
      "outputs": [
        {
          "output_type": "stream",
          "name": "stdout",
          "text": [
            "[[    1 25000   300  1200    10]\n",
            " [    2 32000   450  1500    15]\n",
            " [    3 28000   380  1100     8]\n",
            " [    4 41000   500  1600    20]\n",
            " [    5 35000   420  1400    12]]\n",
            "[[    6 27000   360  1300     9]\n",
            " [    7 39000   480  1700    18]\n",
            " [    8 30000   400  1250    14]\n",
            " [    9 45000   550  1800    25]\n",
            " [   10 33000   410  1450    11]]\n"
          ]
        }
      ]
    },
    {
      "cell_type": "code",
      "source": [
        "# Q6.5: Split the banking_data into 2 equal parts horizontally\n",
        "# split_bd = np.hsplit(banking_data,2)\n",
        "# print(split_bd[0])"
      ],
      "metadata": {
        "id": "DqaWF5PwYxuE"
      },
      "execution_count": 65,
      "outputs": []
    },
    {
      "cell_type": "code",
      "source": [
        "# Question 7: Logical Operations and Filtering"
      ],
      "metadata": {
        "id": "VYx-twE1Yxru"
      },
      "execution_count": null,
      "outputs": []
    },
    {
      "cell_type": "code",
      "source": [
        "# Q7.1: Find customers with account balance greater than $100,000\n",
        "data = banking_data[banking_data[:,1]> 100000]\n",
        "print(data)\n"
      ],
      "metadata": {
        "colab": {
          "base_uri": "https://localhost:8080/"
        },
        "id": "6LhizKXyYxoX",
        "outputId": "2c523fbf-aad1-4753-f1c8-26ad6c09c63d"
      },
      "execution_count": 70,
      "outputs": [
        {
          "output_type": "stream",
          "name": "stdout",
          "text": [
            "[]\n"
          ]
        }
      ]
    },
    {
      "cell_type": "code",
      "source": [
        "# Q7.2: Find customers with credit score greater than 800\n",
        "data = banking_data[banking_data[:,2]> 800]\n",
        "print(data)"
      ],
      "metadata": {
        "colab": {
          "base_uri": "https://localhost:8080/"
        },
        "id": "WAs2nrlBYxld",
        "outputId": "d6550716-751f-4665-b101-bc28b607be61"
      },
      "execution_count": 71,
      "outputs": [
        {
          "output_type": "stream",
          "name": "stdout",
          "text": [
            "[]\n"
          ]
        }
      ]
    },
    {
      "cell_type": "code",
      "source": [
        "\n",
        "import numpy as np\n",
        "banking_data = np.array([\n",
        "    # Customer_ID, Account_Balance, Credit_Score, Transaction_Count, Years_Active\n",
        "    [1, 25000, 300, 1200, 10],\n",
        "    [2, 32000, 450, 1500, 15],\n",
        "    [3, 28000, 380, 1100, 8],\n",
        "    [4, 41000, 500, 1600, 20],\n",
        "    [5, 35000, 420, 1400, 12],\n",
        "    [6, 27000, 360, 1300, 9],\n",
        "    [7, 39000, 480, 1700, 18],\n",
        "    [8, 30000, 400, 1250, 14],\n",
        "    [9, 45000, 550, 1800, 25],\n",
        "    [10, 33000, 410, 1450, 11]\n",
        "])\n",
        "\n",
        "print(banking_data)"
      ],
      "metadata": {
        "colab": {
          "base_uri": "https://localhost:8080/"
        },
        "id": "u8SFDLlmYxfh",
        "outputId": "3b576fb3-5410-40e6-8db4-b68a3c518304"
      },
      "execution_count": 8,
      "outputs": [
        {
          "output_type": "stream",
          "name": "stdout",
          "text": [
            "[[    1 25000   300  1200    10]\n",
            " [    2 32000   450  1500    15]\n",
            " [    3 28000   380  1100     8]\n",
            " [    4 41000   500  1600    20]\n",
            " [    5 35000   420  1400    12]\n",
            " [    6 27000   360  1300     9]\n",
            " [    7 39000   480  1700    18]\n",
            " [    8 30000   400  1250    14]\n",
            " [    9 45000   550  1800    25]\n",
            " [   10 33000   410  1450    11]]\n"
          ]
        }
      ]
    },
    {
      "cell_type": "code",
      "source": [
        "# # Q7.3: Find customers with transaction count greater than 50 AND credit score less than 750\n",
        "data = banking_data[(banking_data[:,3] > 50) & (banking_data[:,2] < 750)]\n",
        "print(data)\n"
      ],
      "metadata": {
        "colab": {
          "base_uri": "https://localhost:8080/"
        },
        "id": "qeC8LkebYxh_",
        "outputId": "b67aee97-e30b-463d-8d66-a2525681f56e"
      },
      "execution_count": 5,
      "outputs": [
        {
          "output_type": "stream",
          "name": "stdout",
          "text": [
            "[[    1 25000   300  1200    10]\n",
            " [    2 32000   450  1500    15]\n",
            " [    3 28000   380  1100     8]\n",
            " [    4 41000   500  1600    20]\n",
            " [    5 35000   420  1400    12]\n",
            " [    6 27000   360  1300     9]\n",
            " [    7 39000   480  1700    18]\n",
            " [    8 30000   400  1250    14]\n",
            " [    9 45000   550  1800    25]\n",
            " [   10 33000   410  1450    11]]\n"
          ]
        }
      ]
    },
    {
      "cell_type": "code",
      "source": [
        "# Q7.4: Count how many customers have account balance between $10,000 and $100,000\n",
        "data = np.sum((banking_data[:,1]>=10000) & (banking_data[:,1] <=100000))\n",
        "print(data)\n"
      ],
      "metadata": {
        "colab": {
          "base_uri": "https://localhost:8080/"
        },
        "id": "G_T8f0o5UbZU",
        "outputId": "4782719f-8d9d-4100-f82c-9de89d6dc59f"
      },
      "execution_count": 8,
      "outputs": [
        {
          "output_type": "stream",
          "name": "stdout",
          "text": [
            "10\n"
          ]
        }
      ]
    },
    {
      "cell_type": "code",
      "source": [
        "# Q7.5: Find the index of the customer with the highest credit score\n",
        "data = np.argmax(banking_data[:,2])+1\n",
        "print(data)"
      ],
      "metadata": {
        "colab": {
          "base_uri": "https://localhost:8080/"
        },
        "id": "9nZ-2912UbV0",
        "outputId": "7e93ec59-0450-4cf9-89b5-67a4dc58ecae"
      },
      "execution_count": 10,
      "outputs": [
        {
          "output_type": "stream",
          "name": "stdout",
          "text": [
            "9\n"
          ]
        }
      ]
    },
    {
      "cell_type": "code",
      "source": [
        "# Question 8: Sorting and Searching"
      ],
      "metadata": {
        "id": "qePSokzfUbS7"
      },
      "execution_count": null,
      "outputs": []
    },
    {
      "cell_type": "code",
      "source": [
        "# Q8.1: Sort the banking_data by account balance (ascending)\n",
        "data = banking_data[banking_data[:,1].argsort()]\n",
        "data"
      ],
      "metadata": {
        "colab": {
          "base_uri": "https://localhost:8080/"
        },
        "id": "cJQDXUk5UbQd",
        "outputId": "01511b8b-4b00-4fb9-fda2-a36fe2d91b3b"
      },
      "execution_count": 13,
      "outputs": [
        {
          "output_type": "execute_result",
          "data": {
            "text/plain": [
              "array([[    1, 25000,   300,  1200,    10],\n",
              "       [    6, 27000,   360,  1300,     9],\n",
              "       [    3, 28000,   380,  1100,     8],\n",
              "       [    8, 30000,   400,  1250,    14],\n",
              "       [    2, 32000,   450,  1500,    15],\n",
              "       [   10, 33000,   410,  1450,    11],\n",
              "       [    5, 35000,   420,  1400,    12],\n",
              "       [    7, 39000,   480,  1700,    18],\n",
              "       [    4, 41000,   500,  1600,    20],\n",
              "       [    9, 45000,   550,  1800,    25]])"
            ]
          },
          "metadata": {},
          "execution_count": 13
        }
      ]
    },
    {
      "cell_type": "code",
      "source": [
        "# Q8.2: Sort the banking_data by credit score (descending)\n",
        "data = banking_data[(-banking_data[:,2]).argsort()]\n",
        "print(data)"
      ],
      "metadata": {
        "colab": {
          "base_uri": "https://localhost:8080/"
        },
        "id": "Xsq8wpJtUbN8",
        "outputId": "8bf2f29c-a01d-4409-ecb0-1427db102df1"
      },
      "execution_count": 15,
      "outputs": [
        {
          "output_type": "stream",
          "name": "stdout",
          "text": [
            "[[    9 45000   550  1800    25]\n",
            " [    4 41000   500  1600    20]\n",
            " [    7 39000   480  1700    18]\n",
            " [    2 32000   450  1500    15]\n",
            " [    5 35000   420  1400    12]\n",
            " [   10 33000   410  1450    11]\n",
            " [    8 30000   400  1250    14]\n",
            " [    3 28000   380  1100     8]\n",
            " [    6 27000   360  1300     9]\n",
            " [    1 25000   300  1200    10]]\n"
          ]
        }
      ]
    },
    {
      "cell_type": "code",
      "source": [
        "# Q8.3: Find the indices that would sort the array by years active\n",
        "data = np.argsort(banking_data[:,4])\n",
        "print(data)"
      ],
      "metadata": {
        "colab": {
          "base_uri": "https://localhost:8080/"
        },
        "id": "l9p8o4oNWKc6",
        "outputId": "ab92ef7f-12ac-48db-c822-5d456558eec3"
      },
      "execution_count": 16,
      "outputs": [
        {
          "output_type": "stream",
          "name": "stdout",
          "text": [
            "[2 5 0 9 4 7 1 6 3 8]\n"
          ]
        }
      ]
    },
    {
      "cell_type": "code",
      "source": [
        "# Q8.4: Find the customer with the second highest account balance\n",
        "data1 = np.argsort(banking_data[:,1])[-2]\n",
        "data = banking_data[data1]\n",
        "print(data[0])\n",
        "\n"
      ],
      "metadata": {
        "colab": {
          "base_uri": "https://localhost:8080/"
        },
        "id": "HDwJwXotWKZz",
        "outputId": "60b8e2a1-b1be-4b22-e038-8c879b09d7ac"
      },
      "execution_count": 28,
      "outputs": [
        {
          "output_type": "stream",
          "name": "stdout",
          "text": [
            "4\n"
          ]
        }
      ]
    },
    {
      "cell_type": "code",
      "source": [
        "# Q8.5: Find the customer with the lowest transaction count\n",
        "data1 = np.argmin(banking_data[:,3])\n",
        "print(data[0])"
      ],
      "metadata": {
        "colab": {
          "base_uri": "https://localhost:8080/"
        },
        "id": "SYZN4HOSWKXH",
        "outputId": "c48a5bc9-3647-41e5-d698-c8e454c794be"
      },
      "execution_count": 27,
      "outputs": [
        {
          "output_type": "stream",
          "name": "stdout",
          "text": [
            "3\n"
          ]
        }
      ]
    },
    {
      "cell_type": "code",
      "source": [
        "# Question 9: Mathematical Functions\n"
      ],
      "metadata": {
        "id": "miYaqsF2WKUY"
      },
      "execution_count": null,
      "outputs": []
    },
    {
      "cell_type": "code",
      "source": [
        "# Q9.1: Calculate the absolute values of all elements\n",
        "data = np.abs(banking_data)\n",
        "print(data)\n"
      ],
      "metadata": {
        "colab": {
          "base_uri": "https://localhost:8080/"
        },
        "id": "8558GBOdgwzl",
        "outputId": "44b9f02a-159b-420c-9075-d75af79c2d90"
      },
      "execution_count": 29,
      "outputs": [
        {
          "output_type": "stream",
          "name": "stdout",
          "text": [
            "[[    1 25000   300  1200    10]\n",
            " [    2 32000   450  1500    15]\n",
            " [    3 28000   380  1100     8]\n",
            " [    4 41000   500  1600    20]\n",
            " [    5 35000   420  1400    12]\n",
            " [    6 27000   360  1300     9]\n",
            " [    7 39000   480  1700    18]\n",
            " [    8 30000   400  1250    14]\n",
            " [    9 45000   550  1800    25]\n",
            " [   10 33000   410  1450    11]]\n"
          ]
        }
      ]
    },
    {
      "cell_type": "code",
      "source": [
        "# Q9.2: Calculate the square root of all account balances\n",
        "data = np.sqrt(banking_data[:,1])\n",
        "print(data)"
      ],
      "metadata": {
        "colab": {
          "base_uri": "https://localhost:8080/"
        },
        "id": "ucsMk1Nvgwwh",
        "outputId": "23ca9def-e9f9-4699-ce2c-1b97416ff17b"
      },
      "execution_count": 30,
      "outputs": [
        {
          "output_type": "stream",
          "name": "stdout",
          "text": [
            "[158.11388301 178.8854382  167.33200531 202.48456731 187.08286934\n",
            " 164.31676725 197.48417658 173.20508076 212.13203436 181.65902125]\n"
          ]
        }
      ]
    },
    {
      "cell_type": "code",
      "source": [
        "# Q9.3: Calculate the square of all credit scores\n",
        "data = np.square(banking_data[:,2])\n",
        "print(data)\n"
      ],
      "metadata": {
        "colab": {
          "base_uri": "https://localhost:8080/"
        },
        "id": "0Tgv4L3dgwtP",
        "outputId": "51041c28-ea7b-4e6f-de95-4acbe96a91c1"
      },
      "execution_count": 31,
      "outputs": [
        {
          "output_type": "stream",
          "name": "stdout",
          "text": [
            "[ 90000 202500 144400 250000 176400 129600 230400 160000 302500 168100]\n"
          ]
        }
      ]
    },
    {
      "cell_type": "code",
      "source": [
        "# Q9.4: Calculate the exponential of all transaction counts\n",
        "data = np.exp(banking_data[:,3])\n",
        "print(data)"
      ],
      "metadata": {
        "colab": {
          "base_uri": "https://localhost:8080/"
        },
        "id": "VbIxwml4gwp8",
        "outputId": "513e8db0-080e-40c8-daa9-c76fc4c69f38"
      },
      "execution_count": 33,
      "outputs": [
        {
          "output_type": "stream",
          "name": "stdout",
          "text": [
            "[inf inf inf inf inf inf inf inf inf inf]\n"
          ]
        },
        {
          "output_type": "stream",
          "name": "stderr",
          "text": [
            "/tmp/ipython-input-3198135566.py:2: RuntimeWarning: overflow encountered in exp\n",
            "  data = np.exp(banking_data[:,3])\n"
          ]
        }
      ]
    },
    {
      "cell_type": "code",
      "source": [
        "# Q9.5: Calculate the natural logarithm of all account balances\n",
        "data = np.log(banking_data[:,1])\n",
        "print(data)"
      ],
      "metadata": {
        "colab": {
          "base_uri": "https://localhost:8080/"
        },
        "id": "MBlWIyWJgwnC",
        "outputId": "82d53ac6-b76f-4d4d-960a-5e0f08a1f09b"
      },
      "execution_count": 34,
      "outputs": [
        {
          "output_type": "stream",
          "name": "stdout",
          "text": [
            "[10.1266311  10.37349118 10.23995979 10.62132735 10.46310334 10.20359214\n",
            " 10.57131693 10.30895266 10.71441777 10.40426284]\n"
          ]
        }
      ]
    },
    {
      "cell_type": "code",
      "source": [
        "# Question 10: Advanced Operations\n"
      ],
      "metadata": {
        "id": "KQP5AmNOgwkW"
      },
      "execution_count": null,
      "outputs": []
    },
    {
      "cell_type": "code",
      "source": [
        "# Q10.1: Calculate the cumulative sum of account balances\n",
        "data = np.cumsum(banking_data[:,1])\n",
        "print(data)\n"
      ],
      "metadata": {
        "colab": {
          "base_uri": "https://localhost:8080/"
        },
        "id": "Sy3i0Wjhgwg6",
        "outputId": "6a7c7133-02cf-4497-9103-064fcc825d27"
      },
      "execution_count": 35,
      "outputs": [
        {
          "output_type": "stream",
          "name": "stdout",
          "text": [
            "[ 25000  57000  85000 126000 161000 188000 227000 257000 302000 335000]\n"
          ]
        }
      ]
    },
    {
      "cell_type": "code",
      "source": [
        "# Q10.2: Calculate the cumulative product of transaction counts\n",
        "data = np.cumprod(banking_data[:,3])\n",
        "print(data)\n"
      ],
      "metadata": {
        "colab": {
          "base_uri": "https://localhost:8080/"
        },
        "id": "zYFvtazVktAd",
        "outputId": "799d0e4a-0c56-427b-9fd7-0f4d85d993d1"
      },
      "execution_count": 36,
      "outputs": [
        {
          "output_type": "stream",
          "name": "stdout",
          "text": [
            "[                1200              1800000           1980000000\n",
            "        3168000000000     4435200000000000  5765760000000000000\n",
            "  6570896860228091904  4819962484364410880  5962757212450324480\n",
            " -5525012516809211904]\n"
          ]
        }
      ]
    },
    {
      "cell_type": "code",
      "source": [
        "# Q10.3: Calculate the difference between consecutive account balances\n",
        "data = np.diff(banking_data[:,1])\n",
        "print(data)\n"
      ],
      "metadata": {
        "colab": {
          "base_uri": "https://localhost:8080/"
        },
        "id": "spDMIpbxks9Q",
        "outputId": "078ae61e-071c-4560-f6fb-b42a8e6c4299"
      },
      "execution_count": 37,
      "outputs": [
        {
          "output_type": "stream",
          "name": "stdout",
          "text": [
            "[  7000  -4000  13000  -6000  -8000  12000  -9000  15000 -12000]\n"
          ]
        }
      ]
    },
    {
      "cell_type": "code",
      "source": [
        "# Q10.4: Calculate the gradient of account balances\n",
        "data = np.gradient(banking_data[:,1])\n",
        "print(data)"
      ],
      "metadata": {
        "colab": {
          "base_uri": "https://localhost:8080/"
        },
        "id": "jvU1CLJUks5_",
        "outputId": "e1ac49d4-7eeb-4bfb-a782-f113350d82f9"
      },
      "execution_count": 38,
      "outputs": [
        {
          "output_type": "stream",
          "name": "stdout",
          "text": [
            "[  7000.   1500.   4500.   3500.  -7000.   2000.   1500.   3000.   1500.\n",
            " -12000.]\n"
          ]
        }
      ]
    },
    {
      "cell_type": "code",
      "source": [
        "# Q10.5: Calculate the histogram of account balances with 5 bins\n",
        "hist,hist_bins = np.histogram(banking_data[:,1], bins = 5)\n",
        "print(hist)\n",
        "print(hist_bins)"
      ],
      "metadata": {
        "colab": {
          "base_uri": "https://localhost:8080/"
        },
        "id": "QQyF2eFiks2w",
        "outputId": "e6c86aec-80ae-4a4a-e383-fa0d937a52cf"
      },
      "execution_count": 39,
      "outputs": [
        {
          "output_type": "stream",
          "name": "stdout",
          "text": [
            "[3 2 2 1 2]\n",
            "[25000. 29000. 33000. 37000. 41000. 45000.]\n"
          ]
        }
      ]
    },
    {
      "cell_type": "code",
      "source": [
        "# Question 11: Random Numbers and Simulation"
      ],
      "metadata": {
        "id": "Ru4OOUxkksza"
      },
      "execution_count": null,
      "outputs": []
    },
    {
      "cell_type": "code",
      "source": [
        "# Q11.1: Generate 6 random integers between 1 and 1000\n",
        "import numpy as np\n",
        "data = np.random.randint(1,1001,6)\n",
        "print(data)"
      ],
      "metadata": {
        "colab": {
          "base_uri": "https://localhost:8080/"
        },
        "id": "j59qjYYaksvx",
        "outputId": "1fed3a83-b473-4342-fe21-78ff17e05ed6"
      },
      "execution_count": 2,
      "outputs": [
        {
          "output_type": "stream",
          "name": "stdout",
          "text": [
            "[486 254  36 598 398 860]\n"
          ]
        }
      ]
    },
    {
      "cell_type": "code",
      "source": [
        "# Q11.2: Generate 6 random floats between 0 and 1\n",
        "data = np.random.random(6)\n",
        "print(data)"
      ],
      "metadata": {
        "colab": {
          "base_uri": "https://localhost:8080/"
        },
        "id": "D9V0GE5vkssx",
        "outputId": "eb409581-7ce5-4658-83ea-0b66df78b9e2"
      },
      "execution_count": 5,
      "outputs": [
        {
          "output_type": "stream",
          "name": "stdout",
          "text": [
            "[0.97821559 0.52910989 0.73464533 0.56238228 0.47822868 0.72592818]\n"
          ]
        }
      ]
    },
    {
      "cell_type": "code",
      "source": [
        "# Q11.3: Generate 6 random numbers from normal distribution (mean=700, std=100)\n",
        "data = np.random.normal(700,100,6)\n",
        "print(data)"
      ],
      "metadata": {
        "colab": {
          "base_uri": "https://localhost:8080/"
        },
        "id": "0VvyinEIkspe",
        "outputId": "64aba993-e49a-42df-a75b-addeae584892"
      },
      "execution_count": 6,
      "outputs": [
        {
          "output_type": "stream",
          "name": "stdout",
          "text": [
            "[692.04048    846.51909728 661.72663364 661.23829855 670.73888303\n",
            " 926.48790347]\n"
          ]
        }
      ]
    },
    {
      "cell_type": "code",
      "source": [
        "# Q11.4: Shuffle the banking_data rows randomly\n",
        "shuffled_data = banking_data.copy()\n",
        "np.random.shuffle(shuffled_data)\n",
        "print(shuffled_data)\n"
      ],
      "metadata": {
        "colab": {
          "base_uri": "https://localhost:8080/"
        },
        "id": "gsmmulQmksmo",
        "outputId": "beacb2bd-481e-45bc-a3e8-c40bab98f546"
      },
      "execution_count": 9,
      "outputs": [
        {
          "output_type": "stream",
          "name": "stdout",
          "text": [
            "[[    9 45000   550  1800    25]\n",
            " [    8 30000   400  1250    14]\n",
            " [    3 28000   380  1100     8]\n",
            " [    5 35000   420  1400    12]\n",
            " [    7 39000   480  1700    18]\n",
            " [    4 41000   500  1600    20]\n",
            " [   10 33000   410  1450    11]\n",
            " [    1 25000   300  1200    10]\n",
            " [    6 27000   360  1300     9]\n",
            " [    2 32000   450  1500    15]]\n"
          ]
        }
      ]
    },
    {
      "cell_type": "code",
      "source": [
        "# Q11.5: Set random seed to 123 and generate 4 random numbersdata\n",
        "np.random.seed(123)\n",
        "seeded_random = np.random.random(4)\n",
        "print(seeded_random)"
      ],
      "metadata": {
        "colab": {
          "base_uri": "https://localhost:8080/"
        },
        "id": "Mla8XSQ_ksjh",
        "outputId": "4608212a-b742-4f2b-9d3d-ba1c32f6ef6f"
      },
      "execution_count": 10,
      "outputs": [
        {
          "output_type": "stream",
          "name": "stdout",
          "text": [
            "[0.69646919 0.28613933 0.22685145 0.55131477]\n"
          ]
        }
      ]
    },
    {
      "cell_type": "code",
      "source": [
        "# Question 12: Linear Algebra Operations\n"
      ],
      "metadata": {
        "id": "Qh1tmgE7ksgw"
      },
      "execution_count": null,
      "outputs": []
    },
    {
      "cell_type": "code",
      "source": [
        "# Q12.1: Calculate the dot product of account balance and credit score columns\n",
        "dot_product = np.dot(banking_data[:, 1], banking_data[:, 2])\n",
        "print(dot_product)\n"
      ],
      "metadata": {
        "colab": {
          "base_uri": "https://localhost:8080/"
        },
        "id": "crMf2diSksdW",
        "outputId": "50162bc0-fd5b-45e1-fb95-8356ae15d4d1"
      },
      "execution_count": 12,
      "outputs": [
        {
          "output_type": "stream",
          "name": "stdout",
          "text": [
            "146460000\n"
          ]
        }
      ]
    },
    {
      "cell_type": "code",
      "source": [
        "# Q12.2: Calculate the cross product of first two rows\n",
        "cross_product = np.cross(banking_data[0, :3], banking_data[1, :3])\n",
        "print(cross_product)"
      ],
      "metadata": {
        "colab": {
          "base_uri": "https://localhost:8080/"
        },
        "id": "YL_LyjZTrbuc",
        "outputId": "8de0cfd6-3bd7-43e2-e98b-d7215ee52c40"
      },
      "execution_count": 15,
      "outputs": [
        {
          "output_type": "stream",
          "name": "stdout",
          "text": [
            "[1650000     150  -18000]\n"
          ]
        }
      ]
    },
    {
      "cell_type": "code",
      "source": [
        "# Q12.3: Calculate the norm (magnitude) of the account balance column\n",
        "banking_data = np.linalg.norm(banking_data[:, 1])\n",
        "print(data)\n"
      ],
      "metadata": {
        "colab": {
          "base_uri": "https://localhost:8080/"
        },
        "id": "R6Yu1SOWrbrZ",
        "outputId": "853e1d2e-e321-45b5-b178-c81aceea4fe3"
      },
      "execution_count": 16,
      "outputs": [
        {
          "output_type": "stream",
          "name": "stdout",
          "text": [
            "[692.04048    846.51909728 661.72663364 661.23829855 670.73888303\n",
            " 926.48790347]\n"
          ]
        }
      ]
    },
    {
      "cell_type": "code",
      "source": [
        "# Q12.4: Create a 3x3 matrix and calculate its determinant\n",
        "matrix_3x3 = np.array([[2, 3, 4], [1, 4, 8], [6, 7, 3]])\n",
        "determinant = np.linalg.det(matrix_3x3)\n",
        "print(matrix_3x3)\n",
        "print(determinant)"
      ],
      "metadata": {
        "colab": {
          "base_uri": "https://localhost:8080/"
        },
        "id": "1SLGTNaorboB",
        "outputId": "88a7e28f-f24b-4263-858b-c1eed2a6bd85"
      },
      "execution_count": 18,
      "outputs": [
        {
          "output_type": "stream",
          "name": "stdout",
          "text": [
            "[[2 3 4]\n",
            " [1 4 8]\n",
            " [6 7 3]]\n",
            "-20.99999999999999\n"
          ]
        }
      ]
    },
    {
      "cell_type": "code",
      "source": [
        "# Q12.5: Calculate the inverse of the 3x3 matrix\n",
        "data = np.linalg.inv(matrix_3x3)\n",
        "print(data)"
      ],
      "metadata": {
        "colab": {
          "base_uri": "https://localhost:8080/"
        },
        "id": "upaJpOTzrblB",
        "outputId": "f1b67e22-df57-4114-e723-265d99f67c83"
      },
      "execution_count": 19,
      "outputs": [
        {
          "output_type": "stream",
          "name": "stdout",
          "text": [
            "[[ 2.0952381  -0.9047619  -0.38095238]\n",
            " [-2.14285714  0.85714286  0.57142857]\n",
            " [ 0.80952381 -0.19047619 -0.23809524]]\n"
          ]
        }
      ]
    },
    {
      "cell_type": "code",
      "source": [
        "# Question 13: String Operations\n"
      ],
      "metadata": {
        "id": "mnEuZbvKrbhh"
      },
      "execution_count": null,
      "outputs": []
    },
    {
      "cell_type": "code",
      "source": [
        "# Q2.1: What is the shape of the banking_data array?\n",
        "banking_data = np.array([\n",
        "    # Customer_ID, Account_Balance, Credit_Score, Transaction_Count, Years_Active\n",
        "    [1, 25000, 300, 1200, 10],\n",
        "    [2, 32000, 450, 1500, 15],\n",
        "    [3, 28000, 380, 1100, 8],\n",
        "    [4, 41000, 500, 1600, 20],\n",
        "    [5, 35000, 420, 1400, 12],\n",
        "    [6, 27000, 360, 1300, 9],\n",
        "    [7, 39000, 480, 1700, 18],\n",
        "    [8, 30000, 400, 1250, 14],\n",
        "    [9, 45000, 550, 1800, 25],\n",
        "    [10, 33000, 410, 1450, 11]\n",
        "])\n",
        "\n",
        "print(banking_data)"
      ],
      "metadata": {
        "colab": {
          "base_uri": "https://localhost:8080/"
        },
        "id": "LiAme-Jpv5jU",
        "outputId": "b82af80b-4cef-4f8e-e2c7-7c569081d805"
      },
      "execution_count": 3,
      "outputs": [
        {
          "output_type": "stream",
          "name": "stdout",
          "text": [
            "[[    1 25000   300  1200    10]\n",
            " [    2 32000   450  1500    15]\n",
            " [    3 28000   380  1100     8]\n",
            " [    4 41000   500  1600    20]\n",
            " [    5 35000   420  1400    12]\n",
            " [    6 27000   360  1300     9]\n",
            " [    7 39000   480  1700    18]\n",
            " [    8 30000   400  1250    14]\n",
            " [    9 45000   550  1800    25]\n",
            " [   10 33000   410  1450    11]]\n"
          ]
        }
      ]
    },
    {
      "cell_type": "code",
      "source": [
        "# Q13.1: Convert all customer IDs to strings\n",
        "customer_ids_str = banking_data[:, 0].astype(str)\n",
        "print(customer_ids_str)\n"
      ],
      "metadata": {
        "colab": {
          "base_uri": "https://localhost:8080/"
        },
        "id": "yYoGbibfrbdG",
        "outputId": "33514b14-07b1-403b-bce5-7221bcd1a527"
      },
      "execution_count": 27,
      "outputs": [
        {
          "output_type": "stream",
          "name": "stdout",
          "text": [
            "['1' '2' '3' '4' '5' '6' '7' '8' '9' '10']\n"
          ]
        }
      ]
    },
    {
      "cell_type": "code",
      "source": [
        "# Q13.2: Check if any customer ID contains '100'\n",
        "data = np.char.find(customer_ids_str, '100') >= 0\n",
        "print(banking_data[data])\n"
      ],
      "metadata": {
        "colab": {
          "base_uri": "https://localhost:8080/"
        },
        "id": "HvNwZEq_rbYq",
        "outputId": "bffbee85-cb84-4dc8-be3a-9eac4e1a579a"
      },
      "execution_count": 30,
      "outputs": [
        {
          "output_type": "stream",
          "name": "stdout",
          "text": [
            "[]\n"
          ]
        }
      ]
    },
    {
      "cell_type": "code",
      "source": [
        "# Q13.3: Convert all customer IDs to uppercase (if they were strings)\n",
        "data = np.char.upper(customer_ids_str)\n",
        "print(data)"
      ],
      "metadata": {
        "colab": {
          "base_uri": "https://localhost:8080/"
        },
        "id": "RPoluQHorbVf",
        "outputId": "9b869448-d6f0-4f7c-e654-c51e75906821"
      },
      "execution_count": 31,
      "outputs": [
        {
          "output_type": "stream",
          "name": "stdout",
          "text": [
            "['1' '2' '3' '4' '5' '6' '7' '8' '9' '10']\n"
          ]
        }
      ]
    },
    {
      "cell_type": "code",
      "source": [
        "# Q13.4: Count the length of each customer ID string\n",
        "data = np.char.str_len(customer_ids_str)\n",
        "print(data)\n"
      ],
      "metadata": {
        "colab": {
          "base_uri": "https://localhost:8080/"
        },
        "id": "MQEo8ds2rbSn",
        "outputId": "9bf75ec9-c158-42e3-b517-a9f30759aeca"
      },
      "execution_count": 32,
      "outputs": [
        {
          "output_type": "stream",
          "name": "stdout",
          "text": [
            "[1 1 1 1 1 1 1 1 1 2]\n"
          ]
        }
      ]
    },
    {
      "cell_type": "code",
      "source": [
        "# Q13.5: Replace '10' with 'CUST' in customer IDs\n",
        "data = np.char.replace(customer_ids_str, '10', 'CUST')\n",
        "print(data)"
      ],
      "metadata": {
        "colab": {
          "base_uri": "https://localhost:8080/"
        },
        "id": "mFYOf6OQrbPn",
        "outputId": "54ef1743-627b-49f1-ccdc-28ab06b5e957"
      },
      "execution_count": 34,
      "outputs": [
        {
          "output_type": "stream",
          "name": "stdout",
          "text": [
            "['1' '2' '3' '4' '5' '6' '7' '8' '9' 'CUST']\n"
          ]
        }
      ]
    },
    {
      "cell_type": "code",
      "source": [
        "# Question 14: Date and Time Operations\n"
      ],
      "metadata": {
        "id": "G1jiShz_rbKL"
      },
      "execution_count": null,
      "outputs": []
    },
    {
      "cell_type": "code",
      "source": [
        "# Q14.1: Convert years active to months\n",
        "yrs_to_months = banking_data[:, 4] * 12\n",
        "print(yrs_to_months)\n"
      ],
      "metadata": {
        "colab": {
          "base_uri": "https://localhost:8080/"
        },
        "id": "QWlZ6EGVxnip",
        "outputId": "8dba259f-1ad1-4f4b-e1ae-c27b7537e61b"
      },
      "execution_count": 35,
      "outputs": [
        {
          "output_type": "stream",
          "name": "stdout",
          "text": [
            "[120 180  96 240 144 108 216 168 300 132]\n"
          ]
        }
      ]
    },
    {
      "cell_type": "code",
      "source": [
        "# Q14.2: Calculate the average years active\n",
        "avg_yrs = np.mean(banking_data[:, 4])\n",
        "print(avg_yrs)\n"
      ],
      "metadata": {
        "colab": {
          "base_uri": "https://localhost:8080/"
        },
        "id": "AnHmrzD4xnfD",
        "outputId": "cb5fe8d8-2f79-4cb6-981a-e796beed4164"
      },
      "execution_count": 36,
      "outputs": [
        {
          "output_type": "stream",
          "name": "stdout",
          "text": [
            "14.2\n"
          ]
        }
      ]
    },
    {
      "cell_type": "code",
      "source": [
        "# Q14.3: Find customers who have been active for more than 15 years\n",
        "yrs_active = banking_data[banking_data[:, 4] > 15]\n",
        "print(yrs_active)\n"
      ],
      "metadata": {
        "colab": {
          "base_uri": "https://localhost:8080/"
        },
        "id": "MoNFElwHxnbM",
        "outputId": "3d635c96-8a8f-4647-f7f7-1e85dd6b2e96"
      },
      "execution_count": 38,
      "outputs": [
        {
          "output_type": "stream",
          "name": "stdout",
          "text": [
            "[[    4 41000   500  1600    20]\n",
            " [    7 39000   480  1700    18]\n",
            " [    9 45000   550  1800    25]]\n"
          ]
        }
      ]
    },
    {
      "cell_type": "code",
      "source": [
        "# Q14.4: Calculate the total time all customers have been active (in years)\n",
        "total_active_time = np.sum(banking_data[:, 4])\n",
        "print(total_active_time)\n"
      ],
      "metadata": {
        "colab": {
          "base_uri": "https://localhost:8080/"
        },
        "id": "ya857sfRxnXQ",
        "outputId": "ddae348c-c195-44ef-89ac-87b5a405c323"
      },
      "execution_count": 39,
      "outputs": [
        {
          "output_type": "stream",
          "name": "stdout",
          "text": [
            "142\n"
          ]
        }
      ]
    },
    {
      "cell_type": "code",
      "source": [
        "# Q14.5: Find the customer with the shortest time active\n",
        "customer_short_active= np.argmin(banking_data[:, 4])\n",
        "shortest_customer_active = banking_data[customer_short_active]\n",
        "print(f\"customer ID: {customer_short_active}, Days: {shortest_customer_active}\")"
      ],
      "metadata": {
        "colab": {
          "base_uri": "https://localhost:8080/"
        },
        "id": "jY5QpHVLxnUB",
        "outputId": "f33b89ab-0bc1-40bb-bd5c-28bf95f2410e"
      },
      "execution_count": 41,
      "outputs": [
        {
          "output_type": "stream",
          "name": "stdout",
          "text": [
            "customer ID: 2, Days: [    3 28000   380  1100     8]\n"
          ]
        }
      ]
    },
    {
      "cell_type": "code",
      "source": [
        "# Question 15: Advanced Array Operations\n"
      ],
      "metadata": {
        "id": "9pRDivA5xnQs"
      },
      "execution_count": null,
      "outputs": []
    },
    {
      "cell_type": "code",
      "source": [
        "# # Q15.1: Apply a function to calculate 5% interest on all account balances\n",
        "# import numpy as np\n",
        "# def add_interest(balance):\n",
        "#   balance * 1.05\n",
        "# interest_applied = np.vectorize(add_interest)(banking_data[:,1])\n",
        "# print(interest_applied)"
      ],
      "metadata": {
        "colab": {
          "base_uri": "https://localhost:8080/"
        },
        "id": "lMsyIQRecnmL",
        "outputId": "c6b9b010-e0b4-4693-dc63-a9617a387036"
      },
      "execution_count": 4,
      "outputs": [
        {
          "output_type": "stream",
          "name": "stdout",
          "text": [
            "[None None None None None None None None None None]\n"
          ]
        }
      ]
    },
    {
      "cell_type": "code",
      "source": [
        "# Q15.2: Use np.where to categorize customers by balance ranges\n",
        "balances = banking_data[:,1]\n",
        "customers_balance =  np.where(balances < 15000, \"Low\",\n",
        "              np.where(balances < 45000, \"Medium\", \"High\"))\n",
        "print(customers_balance)\n"
      ],
      "metadata": {
        "colab": {
          "base_uri": "https://localhost:8080/"
        },
        "id": "7syLoAgAcnjV",
        "outputId": "cf9c859b-cb8b-47c6-d6da-061f7957e00b"
      },
      "execution_count": 9,
      "outputs": [
        {
          "output_type": "stream",
          "name": "stdout",
          "text": [
            "['Medium' 'Medium' 'Medium' 'Medium' 'Medium' 'Medium' 'Medium' 'Medium'\n",
            " 'High' 'Medium']\n"
          ]
        }
      ]
    },
    {
      "cell_type": "code",
      "source": [
        "# Q15.3: Use np.select to categorize customers by credit score ranges\n",
        "conditions = [\n",
        "    banking_data[:, 4] < 9,\n",
        "    (banking_data[:, 4] >= 15) & (banking_data[:, 4] < 20),\n",
        "    banking_data[:, 4] >= 20\n",
        "]\n",
        "choices = ['poor', 'Mid-range', 'good']\n",
        "cus_credit_score = np.select(conditions, choices, default='Unknown')\n",
        "print(cus_credit_score)\n"
      ],
      "metadata": {
        "colab": {
          "base_uri": "https://localhost:8080/"
        },
        "id": "DkcjJsKecngD",
        "outputId": "ec4ae1d0-e3cb-4e02-bcf4-bf2d5bb0a44a"
      },
      "execution_count": 11,
      "outputs": [
        {
          "output_type": "stream",
          "name": "stdout",
          "text": [
            "['Unknown' 'Mid-range' 'poor' 'good' 'Unknown' 'Unknown' 'Mid-range'\n",
            " 'Unknown' 'good' 'Unknown']\n"
          ]
        }
      ]
    },
    {
      "cell_type": "code",
      "source": [
        "# Q15.4: Use np.piecewise to apply different interest rates based on balance\n",
        "def low_interest(x): return x * 1.05\n",
        "def mid_interest(x): return x * 1.10\n",
        "def high_interest(x): return x * 1.20\n",
        "\n",
        "interest_prices = np.piecewise(\n",
        "    banking_data[:, 1],\n",
        "    [banking_data[:, 1] < 20000, (banking_data[:, 1] >= 20000) & (banking_data[:, 1] < 25000), banking_data[:, 1] >= 25000],\n",
        "    [low_interest, mid_interest, high_interest]\n",
        ")\n",
        "print(interest_prices)\n"
      ],
      "metadata": {
        "colab": {
          "base_uri": "https://localhost:8080/"
        },
        "id": "V55dWxBWcncu",
        "outputId": "f895d09f-e32a-46dc-a5d3-84d1444639ff"
      },
      "execution_count": 12,
      "outputs": [
        {
          "output_type": "stream",
          "name": "stdout",
          "text": [
            "[30000 38400 33600 49200 42000 32400 46800 36000 54000 39600]\n"
          ]
        }
      ]
    },
    {
      "cell_type": "code",
      "source": [
        "# Q15.5: Use np.apply_along_axis to calculate the sum of each row\n",
        "row_sums = np.apply_along_axis(np.sum, 1, banking_data)\n",
        "print(row_sums)"
      ],
      "metadata": {
        "colab": {
          "base_uri": "https://localhost:8080/"
        },
        "id": "ZDCA7RiscnZQ",
        "outputId": "c3adcad2-bc40-482a-db40-867c6b299efa"
      },
      "execution_count": 13,
      "outputs": [
        {
          "output_type": "stream",
          "name": "stdout",
          "text": [
            "[26511 33967 29491 43124 36837 28675 41205 31672 47384 34881]\n"
          ]
        }
      ]
    },
    {
      "cell_type": "code",
      "source": [
        "# Question 16: Array Concatenation and Stacking\n"
      ],
      "metadata": {
        "id": "g2Ua15CdcnWB"
      },
      "execution_count": null,
      "outputs": []
    },
    {
      "cell_type": "code",
      "source": [
        "# Q16.1: Concatenate two arrays horizontally using np.hstack()\n",
        "array1 = np.array([1,2,3])\n",
        "array2 = np.array([4,5,6])\n",
        "con_array = np.hstack([array1,array2])\n",
        "print(con_array)\n"
      ],
      "metadata": {
        "colab": {
          "base_uri": "https://localhost:8080/"
        },
        "id": "xxYLpoNWcnSf",
        "outputId": "fa6c433f-e27a-489a-c694-173b9146d513"
      },
      "execution_count": 3,
      "outputs": [
        {
          "output_type": "stream",
          "name": "stdout",
          "text": [
            "[1 2 3 4 5 6]\n"
          ]
        }
      ]
    },
    {
      "cell_type": "code",
      "source": [
        "# Q16.2: Concatenate two arrays vertically using np.vstack()\n",
        "vcon_array = np.vstack([array1,array2])\n",
        "print(vcon_array)\n"
      ],
      "metadata": {
        "colab": {
          "base_uri": "https://localhost:8080/"
        },
        "id": "kHFsBejDcnPV",
        "outputId": "f19f7d2b-36b7-4d8b-d43c-1092b8e09040"
      },
      "execution_count": 15,
      "outputs": [
        {
          "output_type": "stream",
          "name": "stdout",
          "text": [
            "[[1 2 3]\n",
            " [4 5 6]]\n"
          ]
        }
      ]
    },
    {
      "cell_type": "code",
      "source": [
        "# Q16.3: Concatenate arrays along a specific axis using np.concatenate()\n",
        "import numpy as np\n",
        "data = np.concatenate([array1,array2],axis = 0)\n",
        "print(data)\n"
      ],
      "metadata": {
        "colab": {
          "base_uri": "https://localhost:8080/"
        },
        "id": "QsjxYX8IcnL1",
        "outputId": "b24d9b4f-c76f-41b6-de53-ad8fe4768a8b"
      },
      "execution_count": 19,
      "outputs": [
        {
          "output_type": "stream",
          "name": "stdout",
          "text": [
            "[1 2 3 4 5 6]\n"
          ]
        }
      ]
    },
    {
      "cell_type": "code",
      "source": [
        "# Q16.4: Stack arrays depth-wise using np.dstack()\n",
        "data = np.dstack([array1,array2])\n",
        "print(data)\n"
      ],
      "metadata": {
        "colab": {
          "base_uri": "https://localhost:8080/"
        },
        "id": "maQ1UBigxnLn",
        "outputId": "440a71af-6d51-44d5-d860-f7a088ab83d7"
      },
      "execution_count": 21,
      "outputs": [
        {
          "output_type": "stream",
          "name": "stdout",
          "text": [
            "[[[1 4]\n",
            "  [2 5]\n",
            "  [3 6]]]\n"
          ]
        }
      ]
    },
    {
      "cell_type": "code",
      "source": [
        "# Q16.5: Create a column stack using np.column_stack()\n",
        "data = np.column_stack([array1,array2])\n",
        "print(data)"
      ],
      "metadata": {
        "colab": {
          "base_uri": "https://localhost:8080/"
        },
        "id": "zna757GviF5m",
        "outputId": "a3a7c9bd-42ad-4dc0-cccd-5e23281f6630"
      },
      "execution_count": 22,
      "outputs": [
        {
          "output_type": "stream",
          "name": "stdout",
          "text": [
            "[[1 4]\n",
            " [2 5]\n",
            " [3 6]]\n"
          ]
        }
      ]
    },
    {
      "cell_type": "code",
      "source": [
        "# Question 17: Array Splitting Operations\n"
      ],
      "metadata": {
        "id": "CMKtrHEKjtTh"
      },
      "execution_count": null,
      "outputs": []
    },
    {
      "cell_type": "code",
      "source": [
        "# Q17.1: Split an array into 3 equal parts using np.split()\n",
        "array = np.array([1,2,3,4,5,6])\n",
        "split_array = np.split(array,3)\n",
        "for i, part in enumerate(split_array):\n",
        "  print(f\"Parts[{i+1}] = {part} \")\n"
      ],
      "metadata": {
        "colab": {
          "base_uri": "https://localhost:8080/"
        },
        "id": "MkS4YSTHjtQI",
        "outputId": "2b0a0d81-aff3-4f40-c3d5-1056dbfbedbb"
      },
      "execution_count": 24,
      "outputs": [
        {
          "output_type": "stream",
          "name": "stdout",
          "text": [
            "Parts[1] = [1 2] \n",
            "Parts[2] = [3 4] \n",
            "Parts[3] = [5 6] \n"
          ]
        }
      ]
    },
    {
      "cell_type": "code",
      "source": [
        "# Q17.2: Split an array at specific indices using np.split()\n",
        "array = np.array([1,2,3,4,5,6])\n",
        "split_array = np.split(array,[2,8])\n",
        "print(split_array)\n"
      ],
      "metadata": {
        "colab": {
          "base_uri": "https://localhost:8080/"
        },
        "id": "F7eHn1JwjtMu",
        "outputId": "1372de6d-b6c1-44f7-f5df-4c9a04f17a65"
      },
      "execution_count": 27,
      "outputs": [
        {
          "output_type": "stream",
          "name": "stdout",
          "text": [
            "[array([1, 2]), array([3, 4, 5, 6]), array([], dtype=int64)]\n"
          ]
        }
      ]
    },
    {
      "cell_type": "code",
      "source": [
        "# Q17.3: Split an array horizontally using np.hsplit()\n",
        "arr_2d = np.array([[1, 2, 3], [4, 5, 6]])\n",
        "hsplit_parts = np.hsplit(arr_2d, 3)\n",
        "print(hsplit_parts)\n"
      ],
      "metadata": {
        "colab": {
          "base_uri": "https://localhost:8080/"
        },
        "id": "z9M1T035jtFL",
        "outputId": "e21eb527-01ad-4520-a5a0-bd3792acc5eb"
      },
      "execution_count": 31,
      "outputs": [
        {
          "output_type": "stream",
          "name": "stdout",
          "text": [
            "[array([[1],\n",
            "       [4]]), array([[2],\n",
            "       [5]]), array([[3],\n",
            "       [6]])]\n"
          ]
        }
      ]
    },
    {
      "cell_type": "code",
      "source": [
        "# Q17.4: Split an array vertically using np.vsplit()\n",
        "vsplit_parts = np.vsplit(arr_2d, 2)\n",
        "print(f\"Vertical parts:{vsplit_parts}\")\n"
      ],
      "metadata": {
        "colab": {
          "base_uri": "https://localhost:8080/"
        },
        "id": "BfAowMkRjtB7",
        "outputId": "23952f49-770a-4f88-afae-8db2d98e5e58"
      },
      "execution_count": 34,
      "outputs": [
        {
          "output_type": "stream",
          "name": "stdout",
          "text": [
            "Vertical parts:[array([[1, 2, 3]]), array([[4, 5, 6]])]\n"
          ]
        }
      ]
    },
    {
      "cell_type": "code",
      "source": [
        "# Q17.5: Split an array into equal chunks using np.array_split()\n",
        "chunks = np.array_split(array, 4)\n",
        "print(f\"Split into 4 chunks:{chunks}\")"
      ],
      "metadata": {
        "colab": {
          "base_uri": "https://localhost:8080/"
        },
        "id": "6vJ3GYkYjs-d",
        "outputId": "292e3286-0716-4584-eb50-9a7f98f21517"
      },
      "execution_count": 35,
      "outputs": [
        {
          "output_type": "stream",
          "name": "stdout",
          "text": [
            "Split into 4 chunks:[array([1, 2]), array([3, 4]), array([5]), array([6])]\n"
          ]
        }
      ]
    },
    {
      "cell_type": "code",
      "source": [
        "# Question 18: Array Repetition and Tiling\n"
      ],
      "metadata": {
        "id": "SIU3N0Kaqd3o"
      },
      "execution_count": null,
      "outputs": []
    },
    {
      "cell_type": "code",
      "source": [
        "# Q18.1: Repeat each element of an array 3 times using np.repeat()\n",
        "import numpy as np\n",
        "elements = np.repeat(array1,3)\n",
        "print(elements)\n"
      ],
      "metadata": {
        "colab": {
          "base_uri": "https://localhost:8080/"
        },
        "id": "dFjyu0m6qdzU",
        "outputId": "88d1adb4-5101-4754-895f-be3d5129ddfb"
      },
      "execution_count": 4,
      "outputs": [
        {
          "output_type": "stream",
          "name": "stdout",
          "text": [
            "[1 1 1 2 2 2 3 3 3]\n"
          ]
        }
      ]
    },
    {
      "cell_type": "code",
      "source": [
        "# Q18.2: Repeat an entire array 2 times using np.tile()\n",
        "elements = np.tile(array1,2)\n",
        "print(elements)\n",
        "\n"
      ],
      "metadata": {
        "colab": {
          "base_uri": "https://localhost:8080/"
        },
        "id": "ZY0AFWHYqdv4",
        "outputId": "a39c5ac0-9270-4deb-f400-8c8c704a2807"
      },
      "execution_count": 5,
      "outputs": [
        {
          "output_type": "stream",
          "name": "stdout",
          "text": [
            "[1 2 3 1 2 3]\n"
          ]
        }
      ]
    },
    {
      "cell_type": "code",
      "source": [
        "# Q18.3: Repeat a 2D array using np.tile()\n",
        "arr_2d_small = np.array([[1, 2], [3, 4]])\n",
        "tiled_2d = np.tile(arr_2d_small, (2, 3))\n",
        "print(tiled_2d)"
      ],
      "metadata": {
        "colab": {
          "base_uri": "https://localhost:8080/"
        },
        "id": "p0v9tl1Mqdr9",
        "outputId": "08f3dbaa-72c7-41a3-acfd-2207260987df"
      },
      "execution_count": 6,
      "outputs": [
        {
          "output_type": "stream",
          "name": "stdout",
          "text": [
            "[[1 2 1 2 1 2]\n",
            " [3 4 3 4 3 4]\n",
            " [1 2 1 2 1 2]\n",
            " [3 4 3 4 3 4]]\n"
          ]
        }
      ]
    },
    {
      "cell_type": "code",
      "source": [
        "# Q18.4: Create a pattern using np.tile()\n",
        "pattern = np.array([1, 0])\n",
        "pattern_tiled = np.tile(pattern, 5)\n",
        "print(pattern_tiled)"
      ],
      "metadata": {
        "colab": {
          "base_uri": "https://localhost:8080/"
        },
        "id": "nTm_Sc43qdoM",
        "outputId": "b0879f39-fc35-4cd8-9239-c7ca71bd68f9"
      },
      "execution_count": 7,
      "outputs": [
        {
          "output_type": "stream",
          "name": "stdout",
          "text": [
            "[1 0 1 0 1 0 1 0 1 0]\n"
          ]
        }
      ]
    },
    {
      "cell_type": "code",
      "source": [
        "# Q18.5: Repeat elements with different counts using np.repeat()\n",
        "repeat_counts = [2, 1, 3]\n",
        "repeated_variable = np.repeat(array1, repeat_counts)\n",
        "print(repeated_variable)"
      ],
      "metadata": {
        "colab": {
          "base_uri": "https://localhost:8080/"
        },
        "id": "d8HxPSn3qdj4",
        "outputId": "8e62f641-3813-42c2-f212-d404b591e210"
      },
      "execution_count": 9,
      "outputs": [
        {
          "output_type": "stream",
          "name": "stdout",
          "text": [
            "[1 1 2 3 3 3]\n"
          ]
        }
      ]
    },
    {
      "cell_type": "code",
      "source": [
        "# Question 19: Array Comparison and Logical Operations\n"
      ],
      "metadata": {
        "id": "amKQyznMqdgQ"
      },
      "execution_count": null,
      "outputs": []
    },
    {
      "cell_type": "code",
      "source": [
        "# Q19.1: Compare two arrays for equality using np.array_equal()\n",
        "out_comparision = np.array_equal(array1, array2)\n",
        "print(out_comparision)\n"
      ],
      "metadata": {
        "colab": {
          "base_uri": "https://localhost:8080/"
        },
        "id": "trx7q2IQqdbt",
        "outputId": "b5a738ec-9a61-4f8a-fbcd-ea8fdb2aa0f6"
      },
      "execution_count": 10,
      "outputs": [
        {
          "output_type": "stream",
          "name": "stdout",
          "text": [
            "False\n"
          ]
        }
      ]
    },
    {
      "cell_type": "code",
      "source": [
        "# Q19.2: Check if arrays are close using np.allclose()\n",
        "close_comparision = np.allclose(array1, array2)\n",
        "print(close_comparision)\n"
      ],
      "metadata": {
        "colab": {
          "base_uri": "https://localhost:8080/"
        },
        "id": "6HZW48hEEo4J",
        "outputId": "a5a2d038-6e10-44a9-9b96-8d757b8a92d9"
      },
      "execution_count": 12,
      "outputs": [
        {
          "output_type": "stream",
          "name": "stdout",
          "text": [
            "False\n"
          ]
        }
      ]
    },
    {
      "cell_type": "code",
      "source": [
        "# Q19.3: Apply logical AND operation between arrays\n",
        "out_comparision = np.logical_and(array1>1, array2>4)\n",
        "print(out_comparision)\n"
      ],
      "metadata": {
        "colab": {
          "base_uri": "https://localhost:8080/"
        },
        "id": "ICLkSll7Eoz7",
        "outputId": "10411108-add8-47bf-95ef-9e7d0cb9804c"
      },
      "execution_count": 14,
      "outputs": [
        {
          "output_type": "stream",
          "name": "stdout",
          "text": [
            "[False  True  True]\n"
          ]
        }
      ]
    },
    {
      "cell_type": "code",
      "source": [
        "# Q19.4: Apply logical OR operation between arrays\n",
        "logical_or = np.logical_or(array1 == 1, array2 == 3)\n",
        "print(logical_or)\n"
      ],
      "metadata": {
        "colab": {
          "base_uri": "https://localhost:8080/"
        },
        "id": "7pZ4rH_3Eou5",
        "outputId": "8d33b143-23b0-46d7-d822-c50c10272d4a"
      },
      "execution_count": 15,
      "outputs": [
        {
          "output_type": "stream",
          "name": "stdout",
          "text": [
            "[ True False False]\n"
          ]
        }
      ]
    },
    {
      "cell_type": "code",
      "source": [
        "# Q19.5: Apply logical NOT operation to an array\n",
        "logical_not = np.logical_not(array1 == 1)\n",
        "print(logical_not)"
      ],
      "metadata": {
        "colab": {
          "base_uri": "https://localhost:8080/"
        },
        "id": "rWJYqVHqEoqS",
        "outputId": "dca5d112-f83d-4bbb-a319-44240578d6f8"
      },
      "execution_count": 16,
      "outputs": [
        {
          "output_type": "stream",
          "name": "stdout",
          "text": [
            "[False  True  True]\n"
          ]
        }
      ]
    },
    {
      "cell_type": "code",
      "source": [
        "# Question 20: Array Set Operations\n"
      ],
      "metadata": {
        "id": "MbyWYDWCEolo"
      },
      "execution_count": null,
      "outputs": []
    },
    {
      "cell_type": "code",
      "source": [
        "# Q20.1: Find unique elements in an array using np.unique()\n",
        "array = np.array([1,1,3,2,5,3,5,5,7])\n",
        "unique_ele = np.unique([array])\n",
        "print(unique_ele)\n"
      ],
      "metadata": {
        "colab": {
          "base_uri": "https://localhost:8080/"
        },
        "id": "kWqjtLyUEoh6",
        "outputId": "26bb1dd3-f014-44b1-e3bf-a6921e97f137"
      },
      "execution_count": 17,
      "outputs": [
        {
          "output_type": "stream",
          "name": "stdout",
          "text": [
            "[1 2 3 5 7]\n"
          ]
        }
      ]
    },
    {
      "cell_type": "code",
      "source": [
        "# Q20.2: Find the intersection of two arrays using np.intersect1d()\n",
        "intersection_ele = np.intersect1d(array1,array2)\n",
        "print(intersection_ele)"
      ],
      "metadata": {
        "colab": {
          "base_uri": "https://localhost:8080/"
        },
        "id": "wTLwH-ziEod-",
        "outputId": "93fa7847-a440-4c8c-dfe0-76f3699fb018"
      },
      "execution_count": 20,
      "outputs": [
        {
          "output_type": "stream",
          "name": "stdout",
          "text": [
            "[]\n"
          ]
        }
      ]
    },
    {
      "cell_type": "code",
      "source": [
        "# Q20.3: Find the union of two arrays using np.union1d()\n",
        "union_ele = np.union1d(array1,array2)\n",
        "print(union_ele)\n"
      ],
      "metadata": {
        "colab": {
          "base_uri": "https://localhost:8080/"
        },
        "id": "nT-7K9Y4EoZB",
        "outputId": "deec199e-2e18-4664-d78b-bafc5fa3b15a"
      },
      "execution_count": 21,
      "outputs": [
        {
          "output_type": "stream",
          "name": "stdout",
          "text": [
            "[1 2 3 4 5 6]\n"
          ]
        }
      ]
    },
    {
      "cell_type": "code",
      "source": [
        "# Q20.4: Find elements in first array but not in second using np.setdiff1d()\n",
        "ele_1st_notin_2nd = np.setdiff1d(array1,array2)\n",
        "print(ele_1st_notin_2nd)"
      ],
      "metadata": {
        "colab": {
          "base_uri": "https://localhost:8080/"
        },
        "id": "S1Tt_L9OGlTr",
        "outputId": "6cf1c41c-1bbd-4c90-f9b5-eb29191c96ac"
      },
      "execution_count": 22,
      "outputs": [
        {
          "output_type": "stream",
          "name": "stdout",
          "text": [
            "[1 2 3]\n"
          ]
        }
      ]
    },
    {
      "cell_type": "code",
      "source": [
        "# Q20.5: Find the symmetric difference between two arrays using np.setxor1d()\n",
        "symmetric_diff = np.setxor1d(array1,array2)\n",
        "print(symmetric_diff)"
      ],
      "metadata": {
        "colab": {
          "base_uri": "https://localhost:8080/"
        },
        "id": "RifGSOMpGlO4",
        "outputId": "97e428ae-8f8c-4b1c-dff7-efc20778c02e"
      },
      "execution_count": 23,
      "outputs": [
        {
          "output_type": "stream",
          "name": "stdout",
          "text": [
            "[1 2 3 4 5 6]\n"
          ]
        }
      ]
    }
  ]
}
