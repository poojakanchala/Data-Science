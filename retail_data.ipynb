{
  "nbformat": 4,
  "nbformat_minor": 0,
  "metadata": {
    "colab": {
      "provenance": [],
      "authorship_tag": "ABX9TyMPI+R6eqld7S7Zzu1oPhOp",
      "include_colab_link": true
    },
    "kernelspec": {
      "name": "python3",
      "display_name": "Python 3"
    },
    "language_info": {
      "name": "python"
    }
  },
  "cells": [
    {
      "cell_type": "markdown",
      "metadata": {
        "id": "view-in-github",
        "colab_type": "text"
      },
      "source": [
        "<a href=\"https://colab.research.google.com/github/poojakanchala/Edukroncodes7781/blob/main/retail_data.ipynb\" target=\"_parent\"><img src=\"https://colab.research.google.com/assets/colab-badge.svg\" alt=\"Open In Colab\"/></a>"
      ]
    },
    {
      "cell_type": "code",
      "execution_count": 1,
      "metadata": {
        "colab": {
          "base_uri": "https://localhost:8080/"
        },
        "id": "6DwLh6qK9wTq",
        "outputId": "903ba215-c24f-4917-e81a-1ba80e2abf35"
      },
      "outputs": [
        {
          "output_type": "stream",
          "name": "stdout",
          "text": [
            "[[    1 25000   300  1200    10]\n",
            " [    2 32000   450  1500    15]\n",
            " [    3 28000   380  1100     8]\n",
            " [    4 41000   500  1600    20]\n",
            " [    5 35000   420  1400    12]\n",
            " [    6 27000   360  1300     9]\n",
            " [    7 39000   480  1700    18]\n",
            " [    8 30000   400  1250    14]\n",
            " [    9 45000   550  1800    25]\n",
            " [   10 33000   410  1450    11]]\n"
          ]
        }
      ],
      "source": [
        "import numpy as np\n",
        "\n",
        "# Manually created array: [Store ID, Sales, Customers, Inventory, Returns]\n",
        "retail_data = np.array([\n",
        "    [1, 25000, 300, 1200, 10],\n",
        "    [2, 32000, 450, 1500, 15],\n",
        "    [3, 28000, 380, 1100, 8],\n",
        "    [4, 41000, 500, 1600, 20],\n",
        "    [5, 35000, 420, 1400, 12],\n",
        "    [6, 27000, 360, 1300, 9],\n",
        "    [7, 39000, 480, 1700, 18],\n",
        "    [8, 30000, 400, 1250, 14],\n",
        "    [9, 45000, 550, 1800, 25],\n",
        "    [10, 33000, 410, 1450, 11]\n",
        "])\n",
        "\n",
        "print(retail_data)"
      ]
    },
    {
      "cell_type": "code",
      "source": [
        "#1. What is the **total revenue** generated across all stores?\n",
        "retail_data[:,4].sum()"
      ],
      "metadata": {
        "colab": {
          "base_uri": "https://localhost:8080/"
        },
        "id": "DCjnu6cp-INW",
        "outputId": "5e434aef-73c5-4e36-aa5b-26f8f42cdcec"
      },
      "execution_count": 4,
      "outputs": [
        {
          "output_type": "execute_result",
          "data": {
            "text/plain": [
              "np.int64(142)"
            ]
          },
          "metadata": {},
          "execution_count": 4
        }
      ]
    },
    {
      "cell_type": "code",
      "source": [
        "#2. Which store recorded the **highest sales**?\n",
        "retail_data[:,1].argmax()+1"
      ],
      "metadata": {
        "colab": {
          "base_uri": "https://localhost:8080/"
        },
        "id": "PnMKBgxp-IHe",
        "outputId": "226c95d8-98f4-4d4f-98e6-d93419c8f427"
      },
      "execution_count": 9,
      "outputs": [
        {
          "output_type": "execute_result",
          "data": {
            "text/plain": [
              "np.int64(9)"
            ]
          },
          "metadata": {},
          "execution_count": 9
        }
      ]
    },
    {
      "cell_type": "code",
      "source": [
        "#3. Which store recorded the **lowest sales**?\n",
        "retail_data[:,1].argmin()+1"
      ],
      "metadata": {
        "colab": {
          "base_uri": "https://localhost:8080/"
        },
        "id": "_4a8-yh_-IEJ",
        "outputId": "1c72c83e-6cba-405f-e375-8ec0c130e0a7"
      },
      "execution_count": 10,
      "outputs": [
        {
          "output_type": "execute_result",
          "data": {
            "text/plain": [
              "np.int64(1)"
            ]
          },
          "metadata": {},
          "execution_count": 10
        }
      ]
    },
    {
      "cell_type": "code",
      "source": [
        "#4. What is the **average daily sales** per store?\n",
        "(retail_data[:,1]).mean()/10"
      ],
      "metadata": {
        "colab": {
          "base_uri": "https://localhost:8080/"
        },
        "id": "RDKjeSco-IBV",
        "outputId": "79ba0388-089d-454a-ddc0-9e6c79d4d5c7"
      },
      "execution_count": 17,
      "outputs": [
        {
          "output_type": "execute_result",
          "data": {
            "text/plain": [
              "np.float64(3350.0)"
            ]
          },
          "metadata": {},
          "execution_count": 17
        }
      ]
    },
    {
      "cell_type": "code",
      "source": [
        "#5. How many stores achieved sales **above ₹35,000**?\n",
        "retail_data[retail_data[:,1] > 35000].shape"
      ],
      "metadata": {
        "colab": {
          "base_uri": "https://localhost:8080/"
        },
        "id": "QXvAksJc-H-a",
        "outputId": "114d2650-e4c9-44bb-a3d5-8c995643409c"
      },
      "execution_count": 44,
      "outputs": [
        {
          "output_type": "execute_result",
          "data": {
            "text/plain": [
              "(3, 5)"
            ]
          },
          "metadata": {},
          "execution_count": 44
        }
      ]
    },
    {
      "cell_type": "code",
      "source": [
        "#6. Which store had the **highest customer footfall**?\n",
        "retail_data[:,2].argmax()+1"
      ],
      "metadata": {
        "colab": {
          "base_uri": "https://localhost:8080/"
        },
        "id": "f7LL9fsF-H7V",
        "outputId": "947541e1-954b-480e-d593-fab8cd01e38b"
      },
      "execution_count": 46,
      "outputs": [
        {
          "output_type": "execute_result",
          "data": {
            "text/plain": [
              "np.int64(9)"
            ]
          },
          "metadata": {},
          "execution_count": 46
        }
      ]
    },
    {
      "cell_type": "code",
      "source": [
        "#7. What is the **average number of customers** per store?\n",
        "(retail_data[:,2]).mean()/10"
      ],
      "metadata": {
        "colab": {
          "base_uri": "https://localhost:8080/"
        },
        "id": "9hhf6Ukf-H4o",
        "outputId": "8c714e3d-fac1-45dd-9c17-d6edc446222c"
      },
      "execution_count": 31,
      "outputs": [
        {
          "output_type": "execute_result",
          "data": {
            "text/plain": [
              "np.float64(42.5)"
            ]
          },
          "metadata": {},
          "execution_count": 31
        }
      ]
    },
    {
      "cell_type": "code",
      "source": [
        "#8. How many stores have **more than 450 customers**?\n",
        "retail_data[retail_data[:,2] > 450].shape"
      ],
      "metadata": {
        "colab": {
          "base_uri": "https://localhost:8080/"
        },
        "id": "foqq2kBx-H2H",
        "outputId": "f775293c-c2c2-4cfb-e265-0cc0f044fec4"
      },
      "execution_count": 42,
      "outputs": [
        {
          "output_type": "execute_result",
          "data": {
            "text/plain": [
              "(3, 5)"
            ]
          },
          "metadata": {},
          "execution_count": 42
        }
      ]
    },
    {
      "cell_type": "code",
      "source": [
        "#9. Which store has the **lowest customer count**?\n",
        "retail_data[:,2].argmin()+1"
      ],
      "metadata": {
        "colab": {
          "base_uri": "https://localhost:8080/"
        },
        "id": "hy76xzVt-H0I",
        "outputId": "4d7b3cc7-70f8-4287-9a4d-148095a0c134"
      },
      "execution_count": 45,
      "outputs": [
        {
          "output_type": "execute_result",
          "data": {
            "text/plain": [
              "np.int64(1)"
            ]
          },
          "metadata": {},
          "execution_count": 45
        }
      ]
    },
    {
      "cell_type": "code",
      "source": [
        "#10. Is there any store where **high sales do not correspond to high customers**?\n",
        "sales = retail_data[:,1].mean()\n",
        "customers = retail_data[:,2].mean()\n",
        "val = retail_data[(retail_data[:,1] > sales) & (retail_data[:,2]< customers)]\n",
        "val"
      ],
      "metadata": {
        "colab": {
          "base_uri": "https://localhost:8080/"
        },
        "id": "0zyqDIU8M4EI",
        "outputId": "b832f5c1-4ff4-484b-b159-1d1b27147a6b"
      },
      "execution_count": 51,
      "outputs": [
        {
          "output_type": "execute_result",
          "data": {
            "text/plain": [
              "array([[    5, 35000,   420,  1400,    12]])"
            ]
          },
          "metadata": {},
          "execution_count": 51
        }
      ]
    },
    {
      "cell_type": "code",
      "source": [
        "#11. What is the **total inventory** across all stores?\n",
        "retail_data[:,3].sum()"
      ],
      "metadata": {
        "colab": {
          "base_uri": "https://localhost:8080/"
        },
        "id": "eZrznBSaM4Av",
        "outputId": "3cba8290-a993-4fed-e7fb-151886bddeb7"
      },
      "execution_count": 52,
      "outputs": [
        {
          "output_type": "execute_result",
          "data": {
            "text/plain": [
              "np.int64(14300)"
            ]
          },
          "metadata": {},
          "execution_count": 52
        }
      ]
    },
    {
      "cell_type": "code",
      "source": [
        "#12. Which store has the **highest inventory stock**?\n",
        "retail_data[:,3].argmax()+1"
      ],
      "metadata": {
        "colab": {
          "base_uri": "https://localhost:8080/"
        },
        "id": "KZkrWd1hM3-t",
        "outputId": "e76bdca2-080a-4f47-ffb1-2ffb95bf8236"
      },
      "execution_count": 55,
      "outputs": [
        {
          "output_type": "execute_result",
          "data": {
            "text/plain": [
              "np.int64(9)"
            ]
          },
          "metadata": {},
          "execution_count": 55
        }
      ]
    },
    {
      "cell_type": "code",
      "source": [
        "#13. How many stores have **inventory less than 1300 units**?\n",
        "retail_data[retail_data[:,3] < 1300].shape"
      ],
      "metadata": {
        "colab": {
          "base_uri": "https://localhost:8080/"
        },
        "id": "vJle3zLcM37-",
        "outputId": "3b6853f7-2ae3-40f7-a394-87b912553d27"
      },
      "execution_count": 58,
      "outputs": [
        {
          "output_type": "execute_result",
          "data": {
            "text/plain": [
              "(3, 5)"
            ]
          },
          "metadata": {},
          "execution_count": 58
        }
      ]
    },
    {
      "cell_type": "code",
      "source": [
        "#14. Which store has the **highest return rate** (returns ÷ inventory)?\n",
        "(retail_data[:,4]/retail_data[:,3]).argmax()"
      ],
      "metadata": {
        "colab": {
          "base_uri": "https://localhost:8080/"
        },
        "id": "Jch7Vl4tM35H",
        "outputId": "f15d0d84-5f19-4b6c-b245-cb0d81e8e783"
      },
      "execution_count": 59,
      "outputs": [
        {
          "output_type": "execute_result",
          "data": {
            "text/plain": [
              "np.int64(8)"
            ]
          },
          "metadata": {},
          "execution_count": 59
        }
      ]
    },
    {
      "cell_type": "code",
      "source": [
        "#Which stores have **returns greater than 15 units**?\n",
        "retail_data[retail_data[:,4] > 15]"
      ],
      "metadata": {
        "colab": {
          "base_uri": "https://localhost:8080/"
        },
        "id": "AuSCPj-wM32Y",
        "outputId": "4a59c7bc-1a38-4335-95e2-5379c34bf809"
      },
      "execution_count": 63,
      "outputs": [
        {
          "output_type": "execute_result",
          "data": {
            "text/plain": [
              "array([[    4, 41000,   500,  1600,    20],\n",
              "       [    7, 39000,   480,  1700,    18],\n",
              "       [    9, 45000,   550,  1800,    25]])"
            ]
          },
          "metadata": {},
          "execution_count": 63
        }
      ]
    },
    {
      "cell_type": "code",
      "source": [
        "#16. Is there a **positive correlation** between sales and customers?\n",
        "sales = retail_data[:, 1]\n",
        "customers = retail_data[:, 2]\n",
        "\n",
        "print(np.corrcoef(sales, customers)[0,1])"
      ],
      "metadata": {
        "colab": {
          "base_uri": "https://localhost:8080/"
        },
        "id": "gQoet9tiM3zn",
        "outputId": "6bec76a0-103f-4f44-d59a-2e978eb817b8"
      },
      "execution_count": 70,
      "outputs": [
        {
          "output_type": "stream",
          "name": "stdout",
          "text": [
            "0.9593636912502479\n"
          ]
        }
      ]
    },
    {
      "cell_type": "code",
      "source": [
        "#17. Which store has **high customer visits but low sales**?\n",
        "sales = retail_data[:,1].mean()\n",
        "customers = retail_data[:,2].mean()\n",
        "val = retail_data[(retail_data[:,1] < sales) & (retail_data[:,2]> customers)]\n",
        "val"
      ],
      "metadata": {
        "colab": {
          "base_uri": "https://localhost:8080/"
        },
        "id": "ifjH2snj-Hwh",
        "outputId": "26cfbc1d-6eb8-4c89-9f3b-150318754c21"
      },
      "execution_count": 68,
      "outputs": [
        {
          "output_type": "execute_result",
          "data": {
            "text/plain": [
              "array([[    2, 32000,   450,  1500,    15]])"
            ]
          },
          "metadata": {},
          "execution_count": 68
        }
      ]
    },
    {
      "cell_type": "code",
      "source": [
        "#18. Which store has **low customers but high sales**?\n",
        "sales = retail_data[:,1].mean()\n",
        "customers = retail_data[:,2].mean()\n",
        "val = retail_data[(retail_data[:,1] > sales) & (retail_data[:,2]< customers)]\n",
        "val"
      ],
      "metadata": {
        "colab": {
          "base_uri": "https://localhost:8080/"
        },
        "id": "G-eGrhmLRftl",
        "outputId": "679c9721-77a1-4716-cf02-fea7df887895"
      },
      "execution_count": 71,
      "outputs": [
        {
          "output_type": "execute_result",
          "data": {
            "text/plain": [
              "array([[    5, 35000,   420,  1400,    12]])"
            ]
          },
          "metadata": {},
          "execution_count": 71
        }
      ]
    },
    {
      "cell_type": "code",
      "source": [
        "#19. How many stores have **sales per customer above ₹90**?\n",
        "retail_data[((retail_data[:,1])/(retail_data[:,2])) > 90]"
      ],
      "metadata": {
        "colab": {
          "base_uri": "https://localhost:8080/"
        },
        "id": "6wZFe_7bRfff",
        "outputId": "cda4e09a-ba2c-4a83-b392-aa2b28a795bf"
      },
      "execution_count": 82,
      "outputs": [
        {
          "output_type": "execute_result",
          "data": {
            "text/plain": [
              "array([], shape=(0, 5), dtype=int64)"
            ]
          },
          "metadata": {},
          "execution_count": 82
        }
      ]
    },
    {
      "cell_type": "code",
      "source": [
        "#20. Which stores could **benefit from customer acquisition campaigns** (low customers, high inventory)?\n",
        "inventory = retail_data[:,3].mean()\n",
        "customers = retail_data[:,2].mean()\n",
        "val = retail_data[(retail_data[:,3] > inventory) & (retail_data[:,2]< customers)]\n",
        "val"
      ],
      "metadata": {
        "colab": {
          "base_uri": "https://localhost:8080/"
        },
        "id": "fVqIIu3ETyX1",
        "outputId": "e4cc8de7-fa93-4106-f21d-cd1dd1410018"
      },
      "execution_count": 83,
      "outputs": [
        {
          "output_type": "execute_result",
          "data": {
            "text/plain": [
              "array([[   10, 33000,   410,  1450,    11]])"
            ]
          },
          "metadata": {},
          "execution_count": 83
        }
      ]
    },
    {
      "cell_type": "code",
      "source": [
        "#21. If profit margin is **20% of sales**, what is the **profit per store**?\n",
        "sales = retail_data[:,1]\n",
        "profit_per_store = sales*0.20\n",
        "profit_per_store"
      ],
      "metadata": {
        "colab": {
          "base_uri": "https://localhost:8080/"
        },
        "id": "a3yWbt8oTyUj",
        "outputId": "2d90c473-ddcb-43ec-987f-5c6e15c8014c"
      },
      "execution_count": 84,
      "outputs": [
        {
          "output_type": "execute_result",
          "data": {
            "text/plain": [
              "array([5000., 6400., 5600., 8200., 7000., 5400., 7800., 6000., 9000.,\n",
              "       6600.])"
            ]
          },
          "metadata": {},
          "execution_count": 84
        }
      ]
    },
    {
      "cell_type": "code",
      "source": [
        "#22. Which store has the **highest profit**?\n",
        "sales = retail_data[:,1]\n",
        "profit_per_store = sales*0.20\n",
        "profit_per_store.argmax()+1"
      ],
      "metadata": {
        "colab": {
          "base_uri": "https://localhost:8080/"
        },
        "id": "XRugs75uTyRz",
        "outputId": "bb215992-3ef7-4b0a-fa13-9e0daa3a5da2"
      },
      "execution_count": 86,
      "outputs": [
        {
          "output_type": "execute_result",
          "data": {
            "text/plain": [
              "np.int64(9)"
            ]
          },
          "metadata": {},
          "execution_count": 86
        }
      ]
    },
    {
      "cell_type": "code",
      "source": [
        "#23. Which store has the **lowest profit**?\n",
        "sales = retail_data[:,1]\n",
        "profit_per_store = sales*0.20\n",
        "profit_per_store.argmin()+1"
      ],
      "metadata": {
        "colab": {
          "base_uri": "https://localhost:8080/"
        },
        "id": "8-gWjlLZTyPQ",
        "outputId": "0c4c0e9d-a837-4364-cb9c-a001e593dec8"
      },
      "execution_count": 87,
      "outputs": [
        {
          "output_type": "execute_result",
          "data": {
            "text/plain": [
              "np.int64(1)"
            ]
          },
          "metadata": {},
          "execution_count": 87
        }
      ]
    },
    {
      "cell_type": "code",
      "source": [
        "#24. If sales increase by **10% next month**, what are the **new sales figures**?\n",
        "sales = retail_data[:, 1]\n",
        "new_sales = sales * 1.10\n",
        "new_sales"
      ],
      "metadata": {
        "colab": {
          "base_uri": "https://localhost:8080/"
        },
        "id": "TelfZ4CATyMf",
        "outputId": "23108bec-b58a-4b50-a4ea-5ed5fcc8cb0f"
      },
      "execution_count": 88,
      "outputs": [
        {
          "output_type": "execute_result",
          "data": {
            "text/plain": [
              "array([27500., 35200., 30800., 45100., 38500., 29700., 42900., 33000.,\n",
              "       49500., 36300.])"
            ]
          },
          "metadata": {},
          "execution_count": 88
        }
      ]
    },
    {
      "cell_type": "code",
      "source": [
        "#25. How will **total profit** change with the 10% sales increase?\n",
        "sales = retail_data[:, 1]\n",
        "new_sales = sales * 1.10\n",
        "new_sales.sum()"
      ],
      "metadata": {
        "colab": {
          "base_uri": "https://localhost:8080/"
        },
        "id": "HuKbHZlKTyKC",
        "outputId": "b5d6bd5f-4501-4398-a308-dcc713c9a328"
      },
      "execution_count": 89,
      "outputs": [
        {
          "output_type": "execute_result",
          "data": {
            "text/plain": [
              "np.float64(368500.0)"
            ]
          },
          "metadata": {},
          "execution_count": 89
        }
      ]
    },
    {
      "cell_type": "code",
      "source": [
        "#26. Which stores need **inventory restocking** based on sales and current stock?\n",
        "store_ids = retail_data[:, 0]\n",
        "inventory = retail_data[:, 3]\n",
        "sales = retail_data[:, 1]\n",
        "restocking_stack = store_ids[inventory < sales]\n",
        "restocking_stack\n",
        "\n"
      ],
      "metadata": {
        "colab": {
          "base_uri": "https://localhost:8080/"
        },
        "id": "WPAwOafDWRBK",
        "outputId": "f256b7b0-e5e0-454b-8096-c1b771e7def7"
      },
      "execution_count": 97,
      "outputs": [
        {
          "output_type": "execute_result",
          "data": {
            "text/plain": [
              "array([ 1,  2,  3,  4,  5,  6,  7,  8,  9, 10])"
            ]
          },
          "metadata": {},
          "execution_count": 97
        }
      ]
    },
    {
      "cell_type": "code",
      "source": [
        "#27. Which stores show **high returns percentage** and might require **quality checks**?\n",
        "store_ids = retail_data[:, 0]\n",
        "sales = retail_data[:, 1]\n",
        "returns = retail_data[:, 4]\n",
        "\n",
        "returns_percentage = (returns / sales) * 100\n",
        "average_return = returns_percentage.mean()\n",
        "for i in range(len(store_ids)):\n",
        "    if returns_percentage[i] > average_return:\n",
        "      print(store_ids[i])"
      ],
      "metadata": {
        "colab": {
          "base_uri": "https://localhost:8080/"
        },
        "id": "xPdIDRZjWQ0J",
        "outputId": "d6675791-3f54-45e9-c12f-30cf7c1ba433"
      },
      "execution_count": 101,
      "outputs": [
        {
          "output_type": "stream",
          "name": "stdout",
          "text": [
            "2\n",
            "4\n",
            "7\n",
            "8\n",
            "9\n"
          ]
        }
      ]
    },
    {
      "cell_type": "code",
      "source": [
        "# 28. Which store is the **best performer overall** (sales, customers, inventory turnover)?\n",
        "\n",
        "\n"
      ],
      "metadata": {
        "id": "ZRakeGnlWQpe"
      },
      "execution_count": 6,
      "outputs": []
    },
    {
      "cell_type": "code",
      "source": [
        "#29. Which store is the **worst performer overall**?"
      ],
      "metadata": {
        "id": "rX7WJK8_WQei"
      },
      "execution_count": null,
      "outputs": []
    },
    {
      "cell_type": "code",
      "source": [
        "30. #Which stores can be considered for **expansion** based on strong sales and customer metrics?"
      ],
      "metadata": {
        "id": "9W54lhRGWQRA"
      },
      "execution_count": null,
      "outputs": []
    },
    {
      "cell_type": "code",
      "source": [],
      "metadata": {
        "id": "-CIg1j1Y1QM2"
      },
      "execution_count": 6,
      "outputs": []
    }
  ]
}