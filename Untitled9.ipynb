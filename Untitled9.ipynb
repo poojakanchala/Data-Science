{
  "nbformat": 4,
  "nbformat_minor": 0,
  "metadata": {
    "colab": {
      "provenance": [],
      "authorship_tag": "ABX9TyNzJWZGbdtaj7x2zNdzMgkt",
      "include_colab_link": true
    },
    "kernelspec": {
      "name": "python3",
      "display_name": "Python 3"
    },
    "language_info": {
      "name": "python"
    }
  },
  "cells": [
    {
      "cell_type": "markdown",
      "metadata": {
        "id": "view-in-github",
        "colab_type": "text"
      },
      "source": [
        "<a href=\"https://colab.research.google.com/github/poojakanchala/Edukroncodes7781/blob/main/Untitled9.ipynb\" target=\"_parent\"><img src=\"https://colab.research.google.com/assets/colab-badge.svg\" alt=\"Open In Colab\"/></a>"
      ]
    },
    {
      "cell_type": "code",
      "execution_count": null,
      "metadata": {
        "colab": {
          "base_uri": "https://localhost:8080/"
        },
        "id": "fMT2wX70Ywvs",
        "outputId": "3fe7db65-a0e8-455c-a2d6-9d6c6bc74237"
      },
      "outputs": [
        {
          "output_type": "stream",
          "name": "stdout",
          "text": [
            "Enter a number: 9\n",
            "9 is positive\n"
          ]
        }
      ],
      "source": [
        "# Question 1: Write an if statement to check if a number is positive.\n",
        "num = int(input(\"Enter a number: \"))\n",
        "if num > 0:\n",
        "  print(f\"{num} is positive\")\n",
        "else:\n",
        "  print(f\"{num} is negative\")"
      ]
    },
    {
      "cell_type": "code",
      "source": [
        "# Question 2: Write an if statement to print \"Even\" if a number is divisible by 2.\n",
        "num = int(input(\"Enter a number: \"))\n",
        "if num%2 == 0:\n",
        "  print(\"Even\")\n",
        "else:\n",
        "  print(\"Odd\")\n"
      ],
      "metadata": {
        "colab": {
          "base_uri": "https://localhost:8080/"
        },
        "id": "kBjAf6jkY_jO",
        "outputId": "d5fa8172-2582-411d-972f-7c6ce75cccf0"
      },
      "execution_count": null,
      "outputs": [
        {
          "output_type": "stream",
          "name": "stdout",
          "text": [
            "Enter a number: 3\n",
            "Odd\n"
          ]
        }
      ]
    },
    {
      "cell_type": "code",
      "source": [
        "# Question 3: Write an if statement to check if a string is empty.\n",
        "string = ''\n",
        "if len(string)==0:\n",
        "  print(\"Empty\")\n",
        "else:\n",
        "  print(\"Not Empty\")\n",
        "\n"
      ],
      "metadata": {
        "colab": {
          "base_uri": "https://localhost:8080/"
        },
        "id": "KD4-vc2vY_gf",
        "outputId": "0122ce10-af53-479e-97ad-382bc5d6a9e7"
      },
      "execution_count": null,
      "outputs": [
        {
          "output_type": "stream",
          "name": "stdout",
          "text": [
            "Empty\n"
          ]
        }
      ]
    },
    {
      "cell_type": "code",
      "source": [
        "# Question 4: Use if to check if a given year is a leap year.\n",
        "year = 2004\n",
        "if (year % 4 == 0 and year % 100 != 0) or year % 400 == 0 :\n",
        "  print(\"Leap Year\")\n",
        "else:\n",
        "  print(\"Not Leap Year\")\n"
      ],
      "metadata": {
        "colab": {
          "base_uri": "https://localhost:8080/"
        },
        "id": "FFq0cPyTY_dO",
        "outputId": "8c8088d4-03d5-4be3-c3d1-8406438b1af5"
      },
      "execution_count": null,
      "outputs": [
        {
          "output_type": "stream",
          "name": "stdout",
          "text": [
            "Leap Year\n"
          ]
        }
      ]
    },
    {
      "cell_type": "code",
      "source": [
        "# Question 5: Write an if to check if a number is greater than 100.\n",
        "num = int(input(\"Enter a number: \"))\n",
        "if num>100:\n",
        "  print(\"Greater then 100\")\n"
      ],
      "metadata": {
        "colab": {
          "base_uri": "https://localhost:8080/"
        },
        "id": "iby9K7s6Y_aV",
        "outputId": "78bbb12c-7584-4904-8642-cde0a7b5b687"
      },
      "execution_count": null,
      "outputs": [
        {
          "output_type": "stream",
          "name": "stdout",
          "text": [
            "Enter a number: 400\n",
            "Greater then 100\n"
          ]
        }
      ]
    },
    {
      "cell_type": "code",
      "source": [
        "# Question 6: Use if to check if a character is a vowel.\n",
        "vowel = ['a','e','i','o','u']\n",
        "char = input(\"enter a char: \")\n",
        "if char in vowel:\n",
        "  print(f\"{char} is a vowel\")\n",
        "else:\n",
        "  print(f\"{char} is not a vowel\")\n"
      ],
      "metadata": {
        "colab": {
          "base_uri": "https://localhost:8080/"
        },
        "id": "UsI4297VY_XW",
        "outputId": "f086057f-9d1d-43e0-d8d6-50f1b33419c3"
      },
      "execution_count": null,
      "outputs": [
        {
          "output_type": "stream",
          "name": "stdout",
          "text": [
            "enter a char: u\n",
            "u is a vowel\n"
          ]
        }
      ]
    },
    {
      "cell_type": "code",
      "source": [
        "# Question 7: Write an if statement to print \"Teenager\" if age is between 13 and 19.\n",
        "age=int(input(\"Enter the age: \"))\n",
        "if age>13 and age<19:\n",
        "  print(\"Teenager\")\n"
      ],
      "metadata": {
        "colab": {
          "base_uri": "https://localhost:8080/"
        },
        "id": "nKQuQIwqY_Ud",
        "outputId": "6c97cd52-7d1d-4719-fbf4-ee51b5a869e2"
      },
      "execution_count": null,
      "outputs": [
        {
          "name": "stdout",
          "output_type": "stream",
          "text": [
            "Enter the age: 19\n"
          ]
        }
      ]
    },
    {
      "cell_type": "code",
      "source": [
        "# Question 8: Use if to check if a list has more than 5 elements.\n",
        "list1 = [1,2,4,5,7,3]\n",
        "if len(list1)>5:\n",
        "  print(\"list has more than 5 elements\")"
      ],
      "metadata": {
        "id": "KFW1lCZrY_R1"
      },
      "execution_count": null,
      "outputs": []
    },
    {
      "cell_type": "code",
      "source": [
        "# Question 9: Write an if statement to check if a file name ends with .txt.\n",
        "file = \"/content/sample_data/mnist_test.txt\"\n",
        "if file.endswith('.txt'):\n",
        "  print(\"Its a text file\")\n",
        "else:\n",
        "  print(\"Its not a text file\")\n"
      ],
      "metadata": {
        "colab": {
          "base_uri": "https://localhost:8080/"
        },
        "id": "TimYDtK6Y_Oi",
        "outputId": "8c396c0e-8e6c-4a7e-be79-2ffbbad1596d"
      },
      "execution_count": null,
      "outputs": [
        {
          "output_type": "stream",
          "name": "stdout",
          "text": [
            "Its a text file\n"
          ]
        }
      ]
    },
    {
      "cell_type": "code",
      "source": [
        "# Question 10: Use if to check if two numbers are equal.\n",
        "if 9==9:\n",
        "  print(\"Equal\")"
      ],
      "metadata": {
        "colab": {
          "base_uri": "https://localhost:8080/"
        },
        "id": "VZOJV8SFY_L6",
        "outputId": "e34bc6bc-7f2d-46c8-b29d-edf975fd0e71"
      },
      "execution_count": null,
      "outputs": [
        {
          "output_type": "stream",
          "name": "stdout",
          "text": [
            "Equal\n"
          ]
        }
      ]
    },
    {
      "cell_type": "code",
      "source": [
        "# Question 11: Check if a dictionary contains a key \"name\".\n",
        "dict1={'name':'Pooja','age':21}\n",
        "if 'name' in dict1:\n",
        "  print(\"yes\")"
      ],
      "metadata": {
        "colab": {
          "base_uri": "https://localhost:8080/"
        },
        "id": "orviPZqKY_JY",
        "outputId": "e788f359-a881-4215-d44c-ffe2ecbde6ee"
      },
      "execution_count": null,
      "outputs": [
        {
          "output_type": "stream",
          "name": "stdout",
          "text": [
            "yes\n"
          ]
        }
      ]
    },
    {
      "cell_type": "code",
      "source": [
        "# Question 12: Check if the sum of two numbers is greater than 50.\n",
        "if (4+5) > 50:\n",
        "  print('True')\n",
        "else:\n",
        "  print(\"False\")\n"
      ],
      "metadata": {
        "colab": {
          "base_uri": "https://localhost:8080/"
        },
        "id": "KnMUAYh7Y_Gx",
        "outputId": "778291ab-faf5-494b-cf19-715077b92c76"
      },
      "execution_count": null,
      "outputs": [
        {
          "output_type": "stream",
          "name": "stdout",
          "text": [
            "False\n"
          ]
        }
      ]
    },
    {
      "cell_type": "code",
      "source": [
        "# Question 13: Check if the first character of a string is uppercase.\n",
        "string='Python Programming'\n",
        "if string.istitle:\n",
        "  print(\"yes\")\n"
      ],
      "metadata": {
        "colab": {
          "base_uri": "https://localhost:8080/"
        },
        "id": "cw-ttQbXY_EW",
        "outputId": "084a88a8-17e1-4954-db80-6356bc782248"
      },
      "execution_count": null,
      "outputs": [
        {
          "output_type": "stream",
          "name": "stdout",
          "text": [
            "yes\n"
          ]
        }
      ]
    },
    {
      "cell_type": "code",
      "source": [
        "# Question 14: Check if temperature is below freezing (0°C).\n",
        "temp= -9\n",
        "if temp < 0:\n",
        "  print(\"temp is below freezing\")\n"
      ],
      "metadata": {
        "colab": {
          "base_uri": "https://localhost:8080/"
        },
        "id": "hcpBQ7lmY_BA",
        "outputId": "fa4423f5-3863-4a82-f7db-68a7adcbc1be"
      },
      "execution_count": null,
      "outputs": [
        {
          "output_type": "stream",
          "name": "stdout",
          "text": [
            "temp is below freezing\n"
          ]
        }
      ]
    },
    {
      "cell_type": "code",
      "source": [
        "# Question 15: Use if to check if a number is prime.\n",
        "num = int(input(\"Enter a number: \"))\n",
        "if num > 0:\n",
        "  for i in range(2,int(num**0.5)+1):\n",
        "    if num%i == 0:\n",
        "      print(\"Not Prime\")\n",
        "      break;\n",
        "  else:\n",
        "      print(\"Prime\")\n",
        "else:\n",
        "  print(\"Not prime\")"
      ],
      "metadata": {
        "colab": {
          "base_uri": "https://localhost:8080/"
        },
        "id": "zpNpKGRPY-98",
        "outputId": "56e7222f-9089-4baf-8222-e962485f3948"
      },
      "execution_count": null,
      "outputs": [
        {
          "output_type": "stream",
          "name": "stdout",
          "text": [
            "Enter a number: 8\n",
            "Not Prime\n"
          ]
        }
      ]
    },
    {
      "cell_type": "code",
      "source": [
        "# Question 16: Use if to check if marks are >= 90 and print \"Grade A\".\n",
        "marks = int(input(\"Enter the marks: \"))\n",
        "if marks >= 90:\n",
        "  print('Grade A')\n",
        "\n"
      ],
      "metadata": {
        "colab": {
          "base_uri": "https://localhost:8080/"
        },
        "id": "I2FtvMQFY-7S",
        "outputId": "a73a2e33-d081-41fd-9ee6-9f1af901427d"
      },
      "execution_count": null,
      "outputs": [
        {
          "output_type": "stream",
          "name": "stdout",
          "text": [
            "Enter the marks: 98\n",
            "Grade A\n"
          ]
        }
      ]
    },
    {
      "cell_type": "code",
      "source": [
        "# Question 17: Use if to check if password length is less than 8.\n"
      ],
      "metadata": {
        "id": "aq7CCtrkY-42"
      },
      "execution_count": null,
      "outputs": []
    },
    {
      "cell_type": "code",
      "source": [
        "# Question 18: Check if a tuple is empty.\n",
        "\n"
      ],
      "metadata": {
        "id": "VUH2pqoGY-1-"
      },
      "execution_count": null,
      "outputs": []
    },
    {
      "cell_type": "code",
      "source": [
        "# Question 19: Check if a list contains duplicates.\n",
        "\n"
      ],
      "metadata": {
        "id": "M3AWKNCnY-zT"
      },
      "execution_count": null,
      "outputs": []
    },
    {
      "cell_type": "code",
      "source": [
        "# Question 20: Use if to check if string contains substring \"Python\"."
      ],
      "metadata": {
        "id": "54DSKgMaY-we"
      },
      "execution_count": null,
      "outputs": []
    },
    {
      "cell_type": "code",
      "source": [
        "# Question 21: Check if user input is numeric.\n",
        "\n"
      ],
      "metadata": {
        "id": "r5IKm2RPY-tx"
      },
      "execution_count": null,
      "outputs": []
    },
    {
      "cell_type": "code",
      "source": [
        "# Question 22: Write if to check if number is multiple of both 3 and 5.\n",
        "\n"
      ],
      "metadata": {
        "id": "idpT273iY-q9"
      },
      "execution_count": null,
      "outputs": []
    },
    {
      "cell_type": "code",
      "source": [
        "# Question 23: Check if two strings are anagrams.\n",
        "\n"
      ],
      "metadata": {
        "id": "L5ZdAF0bY-og"
      },
      "execution_count": null,
      "outputs": []
    },
    {
      "cell_type": "code",
      "source": [
        "# Question 24: Use if to check if a set is subset of another.\n",
        "\n"
      ],
      "metadata": {
        "id": "b3L426gzY-kM"
      },
      "execution_count": null,
      "outputs": []
    },
    {
      "cell_type": "code",
      "source": [
        "# Question 25: Check if current time is AM or PM.\n",
        "\n"
      ],
      "metadata": {
        "id": "wjov4dDwZ-xv"
      },
      "execution_count": null,
      "outputs": []
    },
    {
      "cell_type": "code",
      "source": [
        "# Question 26: Use if to check if given number is palindrome.\n",
        "\n"
      ],
      "metadata": {
        "id": "R3vggnWnZ-vq"
      },
      "execution_count": null,
      "outputs": []
    },
    {
      "cell_type": "code",
      "source": [
        "# Question 27: Write if to check if file exists on disk.\n",
        "\n"
      ],
      "metadata": {
        "id": "9KTqdurZZ-rD"
      },
      "execution_count": null,
      "outputs": []
    },
    {
      "cell_type": "code",
      "source": [
        "# Question 28: Check if email contains \"@\".\n",
        "\n"
      ],
      "metadata": {
        "id": "4bcuP6WpZ-n4"
      },
      "execution_count": null,
      "outputs": []
    },
    {
      "cell_type": "code",
      "source": [
        "# Question 29: Check if age is above 60 and print \"Senior Citizen\".\n",
        "\n"
      ],
      "metadata": {
        "id": "7mgu0yTNZ-jN"
      },
      "execution_count": null,
      "outputs": []
    },
    {
      "cell_type": "code",
      "source": [
        "# Question 30: Use if to check if number is negative or zero."
      ],
      "metadata": {
        "id": "iNwZ2vdQZ-S8"
      },
      "execution_count": null,
      "outputs": []
    },
    {
      "cell_type": "code",
      "source": [
        "# Question 31: Check if a number is between 50 and 100.\n",
        "\n"
      ],
      "metadata": {
        "id": "MNU22njdZ-Qa"
      },
      "execution_count": null,
      "outputs": []
    },
    {
      "cell_type": "code",
      "source": [
        "# Question 32: Check if a string contains only digits.\n",
        "\n"
      ],
      "metadata": {
        "id": "MKSr4eOIZ-OI"
      },
      "execution_count": null,
      "outputs": []
    },
    {
      "cell_type": "code",
      "source": [
        "# Question 33: Check if a list is sorted in ascending order.\n",
        "\n"
      ],
      "metadata": {
        "id": "WjbeqIvUZ-Le"
      },
      "execution_count": null,
      "outputs": []
    },
    {
      "cell_type": "code",
      "source": [
        "# Question 34: Check if a number is a perfect square.\n",
        "\n"
      ],
      "metadata": {
        "id": "LUKP69qoZ-IU"
      },
      "execution_count": null,
      "outputs": []
    },
    {
      "cell_type": "code",
      "source": [
        "# Question 35: Check if a year is a century year.\n",
        "\n"
      ],
      "metadata": {
        "id": "uqaEjEldZ-FS"
      },
      "execution_count": null,
      "outputs": []
    },
    {
      "cell_type": "code",
      "source": [
        "# Question 36: Check if a number is Armstrong number.\n",
        "\n"
      ],
      "metadata": {
        "id": "PZP0SAC2Z-CK"
      },
      "execution_count": null,
      "outputs": []
    },
    {
      "cell_type": "code",
      "source": [
        "# Question 37: Check if a number is Harshad number.\n",
        "\n"
      ],
      "metadata": {
        "id": "AR_MWY86Z9_d"
      },
      "execution_count": null,
      "outputs": []
    },
    {
      "cell_type": "code",
      "source": [
        "# Question 38: Check if student score >= 90 (Grade A).\n",
        "\n"
      ],
      "metadata": {
        "id": "xCbauGs-Z98b"
      },
      "execution_count": null,
      "outputs": []
    },
    {
      "cell_type": "code",
      "source": [
        "# Question 39: Check if score >= 75 (Grade B).\n",
        "\n"
      ],
      "metadata": {
        "id": "aW0xSZyzZ959"
      },
      "execution_count": null,
      "outputs": []
    },
    {
      "cell_type": "code",
      "source": [
        "# Question 40: Check if score >= 50 (Grade C).\n",
        "\n"
      ],
      "metadata": {
        "id": "LybtQ-OZZ91w"
      },
      "execution_count": null,
      "outputs": []
    },
    {
      "cell_type": "code",
      "source": [
        "# Question 41: Print \"Fail\" if score < 35.\n",
        "\n"
      ],
      "metadata": {
        "id": "mZSbWeBiazkZ"
      },
      "execution_count": null,
      "outputs": []
    },
    {
      "cell_type": "code",
      "source": [
        "# Question 42: Print \"Pass\" if score >= 35.\n",
        "\n"
      ],
      "metadata": {
        "id": "6rF5FIJxazg6"
      },
      "execution_count": null,
      "outputs": []
    },
    {
      "cell_type": "code",
      "source": [
        "# Question 43: Print \"Perfect number\" if sum of divisors = number.\n",
        "\n"
      ],
      "metadata": {
        "id": "vhOtLswRazdJ"
      },
      "execution_count": null,
      "outputs": []
    },
    {
      "cell_type": "code",
      "source": [
        "# Question 44: Check if username length between 5 and 15.\n",
        "\n"
      ],
      "metadata": {
        "id": "zZ23XzhsazZl"
      },
      "execution_count": null,
      "outputs": []
    },
    {
      "cell_type": "code",
      "source": [
        "# Question 45: Print \"Strong PIN\" if PIN has exactly 4 digits.\n",
        "\n"
      ],
      "metadata": {
        "id": "YD9HJoxYazV2"
      },
      "execution_count": null,
      "outputs": []
    },
    {
      "cell_type": "code",
      "source": [
        "# Question 46: Print \"Weak PIN\" if PIN < 4 digits.\n",
        "\n"
      ],
      "metadata": {
        "id": "X0b8IcjlazSx"
      },
      "execution_count": null,
      "outputs": []
    },
    {
      "cell_type": "code",
      "source": [
        "# Question 47: Print \"File hidden\" if filename starts with \".\".\n",
        "\n"
      ],
      "metadata": {
        "id": "MHM3zfPxazQF"
      },
      "execution_count": null,
      "outputs": []
    },
    {
      "cell_type": "code",
      "source": [
        "# Question 48: Print \"Prime length\" if string length is prime.\n",
        "\n"
      ],
      "metadata": {
        "id": "2NrFu2DWazMm"
      },
      "execution_count": null,
      "outputs": []
    },
    {
      "cell_type": "code",
      "source": [
        "# Question 49: Print \"Even length\" if string length % 2 == 0.\n",
        "\n"
      ],
      "metadata": {
        "id": "Y8WIUxYIazJq"
      },
      "execution_count": null,
      "outputs": []
    },
    {
      "cell_type": "code",
      "source": [
        "# Question 50: Print \"Odd length\" if string length % 2 == 1."
      ],
      "metadata": {
        "id": "klVOEyk4azGm"
      },
      "execution_count": null,
      "outputs": []
    },
    {
      "cell_type": "code",
      "source": [],
      "metadata": {
        "id": "_Ce4vajUazEe"
      },
      "execution_count": null,
      "outputs": []
    },
    {
      "cell_type": "code",
      "source": [],
      "metadata": {
        "id": "8gFVJlitazCf"
      },
      "execution_count": null,
      "outputs": []
    },
    {
      "cell_type": "code",
      "source": [],
      "metadata": {
        "id": "SNz_qAflay_w"
      },
      "execution_count": null,
      "outputs": []
    },
    {
      "cell_type": "code",
      "source": [],
      "metadata": {
        "id": "Cq_xmNBPay9I"
      },
      "execution_count": null,
      "outputs": []
    },
    {
      "cell_type": "code",
      "source": [],
      "metadata": {
        "id": "Xlq8tfWlay4y"
      },
      "execution_count": null,
      "outputs": []
    },
    {
      "cell_type": "code",
      "source": [],
      "metadata": {
        "id": "n3evnd0Hayzw"
      },
      "execution_count": null,
      "outputs": []
    }
  ]
}